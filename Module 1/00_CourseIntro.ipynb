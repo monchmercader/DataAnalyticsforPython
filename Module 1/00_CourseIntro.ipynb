{
 "cells": [
  {
   "cell_type": "markdown",
   "metadata": {},
   "source": [
    "# Lesson 1 - Course and Jupyter Lab Intro"
   ]
  },
  {
   "cell_type": "markdown",
   "metadata": {},
   "source": [
    "![python](https://www.vizteams.com/wp-content/uploads/2013/08/python-logo-master.png)"
   ]
  },
  {
   "cell_type": "markdown",
   "metadata": {},
   "source": [
    "## Welcome to Data Analytics with Python - Day 1"
   ]
  },
  {
   "cell_type": "markdown",
   "metadata": {},
   "source": [
    "![data](https://media.giphy.com/media/3oKIPEqDGUULpEU0aQ/giphy.gif)"
   ]
  },
  {
   "cell_type": "markdown",
   "metadata": {},
   "source": [
    "I. Outline for this module  \n",
    "II. Learning outcomes  \n",
    "\n",
    "\n",
    "## I. Outline for this week\n",
    "\n",
    "1. What is Python? 🐍  \n",
    "2. Intro to JupyterLab  \n",
    "3. Intro to Python\n",
    "    1. Data Types  \n",
    "    2. Variables\n",
    "    3. Data Structures\n",
    "    3. Printing  \n",
    "    4. Math  \n",
    "    5. Packages/Libraries\n",
    "    6. input data\n",
    "4. Essential of programming\n",
    "    1. Conditional statements\n",
    "    2. Functions\n",
    "    2. Loops  \n",
    "5. Summary\n",
    "6. Feedback\n",
    "7. References"
   ]
  },
  {
   "cell_type": "markdown",
   "metadata": {},
   "source": [
    "## II. Learning Outcomes"
   ]
  },
  {
   "cell_type": "markdown",
   "metadata": {},
   "source": [
    "By the end of this week, you will:\n",
    "\n",
    "1. Have learned what the Python programming language is and how to use JupyterLab to run programs\n",
    "2. Have learned about the different data types and data structures in Python\n",
    "3. Be comfortable doing basic calculations in Python\n",
    "4. Have learned how variables, loops, functions, and if-else statements work\n",
    "5. Get experience creating and running a simple python program"
   ]
  },
  {
   "cell_type": "markdown",
   "metadata": {},
   "source": [
    "## 1. What is Python?"
   ]
  },
  {
   "cell_type": "markdown",
   "metadata": {},
   "source": [
    "If natural languages are one of the many ways in which we communicate with one another, programming languages are what we use to communicate with our computers. When you click and interact with websites through a [graphical user interface (GUI)](https://en.wikipedia.org/wiki/Graphical_user_interface), what makes that possible is the code running behind the scenes. This is essentially what python is, a language that allows us to communicate with our computers to create useful things together.\n",
    "\n",
    "Python can also be used in a variety of domains, from developing websites and mobile phone applications, to creating games and analysing data. Although the focus of this course will be on the latter category, data analysis, our hope is that by the end of the course, the transition from data analytics to any of the other domains in which python operates, would be a smooth one for you.\n",
    "\n",
    "### A bit of history\n",
    "\n",
    "Python was created in the late 1980's, early 90's by [Guido van Rossum](https://gvanrossum.github.io/), a retired dutch programmer who's most recent role was at [dropbox](dropbox.com).\n",
    "\n",
    "### Why is it so popular?\n",
    "\n",
    "Python is an excellent language with a lot of funtionalities, but one of its best characteristics is the plethora of [modules](https://docs.python.org/3/tutorial/modules.html) it has available to increase our productivity and improve our workflow when analysing data. You can think of these modules or libraries of code as the additional benefits of this language. Here is a metaphor to give you an example, we humans are very awesome just the way we are born (e.g., without clothes, language, knowledge, etc.), but in order to function better in society, and cruise through different stages of our lives, we make use of different languages and objects that provide us with a better experience. The clothes, the accessories, and the languages we use are our added benefits just like modules, packages and libraries are Python's added benefits (not the most clever analogy, I know, stay with me though😎).\n",
    "\n",
    "__Note:__ We will be using the terms library, module, and package interchangeably throughout this course.\n",
    "\n",
    "\n",
    "Some of the modules that make up a big component of the data analytics/science ecosystem (and the ones we will use the most in this course), are the following ones:\n",
    "\n",
    "### For Data Analysis\n",
    "\n",
    "- [pandas](https://pandas.pydata.org/) -> \"is a fast, powerful, flexible and easy to use open source data analysis and manipulation tool, built on top of the Python programming language.\"\n",
    "\n",
    "- [numpy](https://numpy.org/) -> \"is the fundamental package for scientific computing with Python. It contains among other things, a powerful N-dimensional array object, sophisticated (broadcasting) functions, tools for integrating C/C++ and Fortran code, useful linear algebra, Fourier transform, and random number capabilities.\"\n",
    "\n",
    "- [SciPy](https://www.scipy.org/) -> \"is a Python-based ecosystem of open-source software for mathematics, science, and engineering.\"\n",
    "\n",
    "### For Data Visualisation\n",
    "\n",
    "- [matplotlib](https://matplotlib.org/) -> \"is a comprehensive library for creating static, animated, and interactive visualizations in Python.\"\n",
    "\n",
    "- [seaborn](https://seaborn.pydata.org/) -> \"s a Python data visualization library based on matplotlib. It provides a high-level interface for drawing attractive and informative statistical graphics.\"\n",
    "\n",
    "- [altair](https://altair-viz.github.io/index.html) -> Although Altair has not had the same adoption from the community as the previous two data visualisation libraries, it is a great library for visualising your data.\n",
    "\n",
    "\\* Definitions have been taken straight from the packages respective websites."
   ]
  },
  {
   "cell_type": "markdown",
   "metadata": {},
   "source": [
    "# 2. Introduction to JupyterLab"
   ]
  },
  {
   "cell_type": "code",
   "execution_count": null,
   "metadata": {},
   "outputs": [],
   "source": [
    "JupyterLab is an [Integrated Development Environment](https://en.wikipedia.org/wiki/Integrated_development_environment) (IDE) created by the [Jupyter Project](https://jupyter.org/). It allows you to combine different tools that are paramount for a good coding workflow. For example, you can have the terminal, a Jupyter notebook, and a markdown file for note-taking/documenting your work, as well as other files, opened at the same time to improve your workflow as you write code (see image below).\n",
    "\n",
    "A silly metaphor to think about IDEs is that, IDEs are to programmers, data analysts, scientists, researcher, etc..., what a kitchen is to a chef, an indispensable piece to get things done.\n",
    "\n",
    "![jupyterlab](https://jupyterlab.readthedocs.io/en/latest/_images/interface_jupyterlab.png)\n",
    "**Source** - [https://jupyterlab.readthedocs.io](https://jupyterlab.readthedocs.io)\n",
    "\n",
    "Jupyter Lab is composed of cells and each cell has 3 states with the default state beign \"code,\" and the other two being markdown and raw text.\n",
    "\n",
    "To run code you will use the following two commands:\n",
    "\n",
    "> # Shift + Enter\n",
    "\n",
    "The first option will run the cell where you have your cursor at and take you to the next one. If there is no cell underneath the one you just ran, it will insert a new one for you.\n",
    "\n",
    "> # Alt + Enter  \n",
    "\n",
    "This second option will run the cell and insert a new one below automatically. Alternatively, you can also run the cells using the play (▶︎) button at the top or with the _Run menu_ on the top left-hand corner.\n",
    "\n",
    "Anything that follows a hash `#` sign is a comment and will not be evaluated by Python. They are useful for documenting your code and letting others know what is happening with every line of code or with every cell.\n",
    "\n",
    "To check the information of a package, function, method, etc., use `?` or `??` at the begining or end of such element, and it will provide you with a lot of information about it.\n",
    "\n",
    "\n",
    "__What you will most often use:__\n",
    "\n",
    "- ***Jupyter Notebooks***\n",
    "\n",
    "Straight from the [Jupiter Project website](https://jupyter.org/): \"The Jupyter Notebook is an open-source web application that allows you to create and share documents that contain live code, equations, visualizations and narrative text. Uses include: data cleaning and transformation, numerical simulation, statistical modeling, data visualization, machine learning, and much more.\"\n",
    "\n",
    "Jupyter notebooks are a great tool for exploratory data analysis, creating educational content, and essentially, making sure you can go over your code as much as you want before moving it to a `.py` file for either production or later use. Which is what you will most-likely need to do to be able to run your code in production or for the later reproducibility of your analyses.\n",
    "\n",
    "- ***Command Line***\n",
    "\n",
    "A [command line interface (CLI)](https://en.wikipedia.org/wiki/Command-line_interface) or terminal, allows us to interact directly with our operating system by writing commands in a textual format as opposed to by clicking and dragging objects in the background through a GUI. \n",
    "\n",
    "There are CLI's or terminals for each operating systems. The most widely used ones are\n",
    "- Bash\n",
    "- PowerShell\n",
    "- CMD (Windows)\n",
    "- Linux  \n",
    "\n",
    "\n",
    "- ***Markdown Documents***\n",
    "\n",
    "\"Markdown is a text-to-HTML conversion tool for web writers. Markdown allows you to write using an easy-to-read, easy-to-write plain text format, then convert it to structurally valid XHTML (or HTML). Thus, “Markdown” is two things: (1) a plain text formatting syntax, and (2) a software tool written in Perl that converts plain text formatting into HTML.\" by [Daring Fireball](https://daringfireball.net/projects/markdown)\n",
    "\n",
    "- ***IPython***\n",
    "\n",
    "IPython is an interactive environment for running python code. It allows you to quickly test code line-by-line before moving it to a full program. Some nice features of IPython are that it lets you know how a function works by providing you not only with a list of its arguments but also with a description of what that argument does. IPython also has the very handy autocomplete funtionality which can save you from a lot of typing, especially when what you are trying to do needs to be fast and iterative. We will be using IPython throughout the course.\n",
    "\n",
    "- ***Tutorials***\n",
    "    * Jupyter Notebook\n",
    "        - [Real Python](https://realpython.com/jupyter-notebook-introduction/)\n",
    "        - [Dataquest](https://www.dataquest.io/blog/jupyter-notebook-tutorial/)\n",
    "        - [YouTube Corey Schafer](https://www.youtube.com/watch?v=HW29067qVWk&t=6s)\n",
    "    * Markdown\n",
    "        - [Daring Fireball](https://daringfireball.net/projects/markdown/)\n",
    "        - [Markdown Guide](https://www.markdownguide.org/)\n",
    "        - You can also go to the pallette-looking command to your left called, `Commands`, and go to `HELP` > `Markdown Reference` for a quick tutorial\n",
    "    * IPython\n",
    "        - [Official Tutorial](https://ipython.readthedocs.io/en/stable/interactive/)"
   ]
  },
  {
   "cell_type": "markdown",
   "metadata": {},
   "source": [
    "## Examples"
   ]
  },
  {
   "cell_type": "markdown",
   "metadata": {},
   "source": [
    "# this is a code cell, look at the top where it says Code\n",
    "# type 5 + 7 and press Shift + Enter"
   ]
  },
  {
   "cell_type": "code",
   "execution_count": 2,
   "metadata": {},
   "outputs": [],
   "source": [
    "# change this cell to markdown at the top, come back and type a hash (#) followed by This is my first notebook, then delete this comment\n"
   ]
  },
  {
   "cell_type": "code",
   "execution_count": null,
   "metadata": {},
   "outputs": [],
   "source": [
    "# change this cell to raw text format and type \"Data is awesome\" :) then press Shift + Enter\n"
   ]
  }
 ],
 "metadata": {
  "kernelspec": {
   "display_name": "Python 3",
   "language": "python",
   "name": "python3"
  },
  "language_info": {
   "codemirror_mode": {
    "name": "ipython",
    "version": 3
   },
   "file_extension": ".py",
   "mimetype": "text/x-python",
   "name": "python",
   "nbconvert_exporter": "python",
   "pygments_lexer": "ipython3",
   "version": "3.8.3"
  }
 },
 "nbformat": 4,
 "nbformat_minor": 4
}
