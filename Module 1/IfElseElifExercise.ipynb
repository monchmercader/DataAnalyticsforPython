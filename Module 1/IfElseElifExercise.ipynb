{
 "cells": [
  {
   "cell_type": "code",
   "execution_count": 5,
   "metadata": {},
   "outputs": [],
   "source": [
    "city_arr = [\"Sydney\",\"Melbourne\",\"New Castle\",\"Canberra\",\"Brisbane\",\"Adelaide\",\"Perth\",\"Darwin\",\"Gold Coast\",\"Cairns\"]"
   ]
  },
  {
   "cell_type": "code",
   "execution_count": 13,
   "metadata": {},
   "outputs": [],
   "source": [
    "import numpy as np"
   ]
  },
  {
   "cell_type": "markdown",
   "metadata": {},
   "source": [
    "#### 1 a. Pick a random member of the city_arr array.\n",
    "#### 1 b. Check if the length of the string is greater than or equal to 7 and print\n",
    "\n",
    "        <name of the city> is a long word.\n",
    "#### 1 c. If the length of string is less than 7, print \n",
    "        \n",
    "         <name of the city> is a short word. \n",
    "\n",
    "*Try doing it without `else` first and then with `else`."
   ]
  },
  {
   "cell_type": "code",
   "execution_count": null,
   "metadata": {},
   "outputs": [],
   "source": []
  },
  {
   "cell_type": "markdown",
   "metadata": {},
   "source": [
    "Double-click __here__ for the solution.\n",
    "\n",
    "<!-- Solution:\n",
    "\n",
    "chosen = city_arr[np.random.randint(0,10)]\n",
    "if len(chosen) >= 7 :\n",
    "    print(\"%s is a long word\"%chosen)\n",
    "\n",
    "if len(chosen) < 7 :\n",
    "    print(\"%s is a short word\"%chosen)\n",
    "\n",
    "    \n",
    "-->"
   ]
  },
  {
   "cell_type": "markdown",
   "metadata": {},
   "source": [
    "#### 2. Generate a random number between 1 and 1000 and print if it is divisible by 3 and print that the number is divisible by 3 if it is. If not check if it is divisible by 2 and print that it is divisible by 2 if it is. If neither conditions work, print that the number is not divisble by 2 or 3."
   ]
  },
  {
   "cell_type": "code",
   "execution_count": null,
   "metadata": {},
   "outputs": [],
   "source": []
  },
  {
   "cell_type": "markdown",
   "metadata": {},
   "source": [
    "Double-click __here__ for the solution.\n",
    "\n",
    "<!-- Solution:\n",
    "\n",
    "num = np.random.randint(1,1000)\n",
    "if(num %3 == 0):\n",
    "    print(\"%d is divisble by 3\"%num)\n",
    "elif (num %2 == 0):\n",
    "    print(\"%d is divisible by 2\"%num)\n",
    "else:\n",
    "    print(\"%d is neither divisble by 2 or 3\"%num)\n",
    "    \n",
    "-->"
   ]
  },
  {
   "cell_type": "markdown",
   "metadata": {},
   "source": [
    "#### 3. Generate a random number between 1 and 100 and check if it a perfect square.\n",
    "\n"
   ]
  },
  {
   "cell_type": "code",
   "execution_count": null,
   "metadata": {},
   "outputs": [],
   "source": []
  },
  {
   "cell_type": "markdown",
   "metadata": {},
   "source": [
    "Double-click __here__ for the solution.\n",
    "\n",
    "<!-- Solution:\n",
    "\n",
    "num = np.random.randint(1,1000)\n",
    "numroot = num ** (1/2);\n",
    "\n",
    "if(numroot ** 2 == num):\n",
    "    print(\"%d is a perfect square\"%num)\n",
    "else:\n",
    "    print(\"%d is a perfect not a perfect square\"%num)    \n",
    "-->"
   ]
  },
  {
   "cell_type": "markdown",
   "metadata": {},
   "source": [
    "#### 4. Select a random city from `city_arr`.\n",
    "\n",
    "a. If the name of the city is Sydney or Melbourne, print `<name of city> is too crowded` \n",
    "\n",
    "b. If the name of the city is Brisbane, print `Brisbane will soon be as crowded as Melbourne`\n",
    "\n",
    "c. If the name of city is anything else, print `<name of the city>! Good choice!`."
   ]
  },
  {
   "cell_type": "code",
   "execution_count": null,
   "metadata": {},
   "outputs": [],
   "source": []
  },
  {
   "cell_type": "markdown",
   "metadata": {},
   "source": [
    "Double-click __here__ for the solution.\n",
    "\n",
    "<!-- Solution:\n",
    "\n",
    "chosen = city_arr[np.random.randint(0,10)]\n",
    "\n",
    "if chosen == \"Sydney\" or chosen == \"Mebourne\":\n",
    "    print(\"%s is very crowded\"%chosen)\n",
    "elif chosen == \"Brisbane\":\n",
    "    print(\"Brisbane will be soon as crowded as Melbourne\")\n",
    "else:\n",
    "    print(\"%s! Good choice!\"%chosen)\n",
    "    \n",
    "-->"
   ]
  },
  {
   "cell_type": "markdown",
   "metadata": {},
   "source": [
    "#### 5. Your goal is to find a number which is divisble by 2 and 3. Select a random number between 1 to 100. And check for the condition. See how many times you have to run before you get a favourable result."
   ]
  },
  {
   "cell_type": "code",
   "execution_count": null,
   "metadata": {},
   "outputs": [],
   "source": []
  },
  {
   "cell_type": "markdown",
   "metadata": {},
   "source": [
    "Double-click __here__ for the solution.\n",
    "\n",
    "<!-- Solution:\n",
    "\n",
    "num = np.random.randint(1,101)\n",
    "if num % 2 == 0 and num % 3 == 0:\n",
    "    print(\"%d is divisble by both 2 and 3\"%num)\n",
    "else:\n",
    "    print(\"%d is not divisible by both 2 and 3\"%num)    \n",
    "-->"
   ]
  },
  {
   "cell_type": "markdown",
   "metadata": {},
   "source": [
    "#### 6. Your goal is to find a number which is divisble by 2 `or` 5. Select a random number between 1 to 100. And check for the condition. See how many times you have to run before you get a favourable result. Depending on whether it is divisble by one of both the numbers, you have to display appropriate message."
   ]
  },
  {
   "cell_type": "code",
   "execution_count": null,
   "metadata": {},
   "outputs": [],
   "source": []
  },
  {
   "cell_type": "markdown",
   "metadata": {},
   "source": [
    "Double-click __here__ for the solution.\n",
    "\n",
    "<!-- Solution:\n",
    "\n",
    "num = np.random.randint(1,101)\n",
    "if num % 2 == 0 or num % 5 == 0:\n",
    "    if num % 2 == 0 and num % 5 == 0:\n",
    "        print(\"%d is divisble by both 2 and 5\"%num)\n",
    "    elif (num % 2 == 0):\n",
    "        print(\"%d is divisible by 2\"%num)\n",
    "    else:\n",
    "        print(\"%d is divisible by 5\"%num)\n",
    "else:\n",
    "    print(\"%d is not divisible by 2 or 5\"%num)\n",
    "    \n",
    "-->"
   ]
  },
  {
   "cell_type": "markdown",
   "metadata": {},
   "source": [
    "#### 7. Take a word as an input from the user and see if it has a vowel in it. Print appropriate messages.\n",
    "\n",
    " *Remember to care for cases.*"
   ]
  },
  {
   "cell_type": "code",
   "execution_count": null,
   "metadata": {},
   "outputs": [],
   "source": []
  },
  {
   "cell_type": "markdown",
   "metadata": {},
   "source": [
    "Double-click __here__ for the solution.\n",
    "\n",
    "<!-- Solution:\n",
    "\n",
    "mystr = input(\"Enter a word\")\n",
    "\n",
    "mystr_upper = mystr.upper()\n",
    "if \"A\" in mystr_upper or \"E\" in mystr_upper or \"I\" in mystr_upper or \"O\" in mystr_upper or \"U\" in mystr_upper:\n",
    "    print(\"%s has a vowel\"%mystr)\n",
    "else:\n",
    "    print(\"%s has no vowel\"%mystr)\n",
    "    \n",
    "-->"
   ]
  },
  {
   "cell_type": "markdown",
   "metadata": {},
   "source": [
    "#### 8. Ask the user to enter the day of the week. Depending on the day of the week chose from one of the following quotes and print it. If the user enters invalid value, display appropriate message.\n",
    "\n",
    "* Mondays are the start of the work week which offer new beginnings 52 times a year!\n",
    "\n",
    "* Tuesday is a great sign that you survived Monday!\n",
    "\n",
    "* Wednesday means half way there! Great going!\n",
    "\n",
    "* Thurday is more like eve of Friday!\n",
    "\n",
    "* Thankgod it's Friday!\n",
    "\n",
    "* Saturday! Hurray, weekend!\n",
    "\n",
    "* Sunday. S-U-N-D-A-Y!\n",
    "\n",
    "\n",
    "*You have to use more than one if*"
   ]
  },
  {
   "cell_type": "code",
   "execution_count": null,
   "metadata": {},
   "outputs": [],
   "source": []
  },
  {
   "cell_type": "markdown",
   "metadata": {},
   "source": [
    "Double-click __here__ for the solution.\n",
    "\n",
    "<!-- Solution:\n",
    "\n",
    "quotes = [\"Mondays are the start of the work week which offer new beginnings 52 times a year!\",\n",
    "          \"Tuesday is a great sign that you survived Monday!\",\n",
    "          \"Wednesday means half way there! Great going!\",\n",
    "          \"Thurday is more like eve of Friday!\",\n",
    "          \"Thank god it's Friday!\",\n",
    "          \"Saturday! Hurray, weekend!\",\n",
    "          \"Sunday. S-U-N-D-A-Y!\"]\n",
    "\n",
    "day = input(\"Enter the day of the week\")\n",
    "\n",
    "day_lower = day.lower()\n",
    "\n",
    "if day_lower == \"monday\":\n",
    "    print(quotes[0])\n",
    "elif day_lower == \"tuesday\":\n",
    "    print(quotes[1])\n",
    "elif day_lower == \"wednesday\":\n",
    "    print(quotes[2])\n",
    "elif day_lower == \"thursday\":\n",
    "    print(quotes[3])\n",
    "elif day_lower == \"friday\":\n",
    "    print(quotes[4])\n",
    "elif day_lower == \"saturday\":\n",
    "    print(quotes[5])\n",
    "elif day_lower == \"sunday\":\n",
    "    print(quotes[6])\n",
    "else:\n",
    "    print(\"That's not even a day!!\")\n",
    "\n",
    "Can you think of a better way of doing it with `from datetime import date`?\n",
    "-->"
   ]
  },
  {
   "cell_type": "markdown",
   "metadata": {},
   "source": [
    "#### 9. Take a number input from the user. If the number is less than 10, check if the number is a prime number and print a message accordingly. If the number is greater than 10 but less than 20 or equal to 20 check if the square of the number is less than 200 or greater than or equal to 200 and print appropriate message. If the number is greater than 20 but less than 100, print all the factors of the number.\n",
    "\n",
    "*Hint- Try using a for loop for the 3rd condition*"
   ]
  },
  {
   "cell_type": "code",
   "execution_count": null,
   "metadata": {},
   "outputs": [],
   "source": []
  },
  {
   "cell_type": "markdown",
   "metadata": {},
   "source": [
    "Double-click __here__ for the solution.\n",
    "\n",
    "<!-- Solution:\n",
    "\n",
    "num = int(input(\"Enter a number\"))\n",
    "\n",
    "\n",
    "if num <10:\n",
    "    if num % 2 == 0 or num % 3 == 0 or num % 5 == 0:\n",
    "        print(\"%d is not a prime number\"%num)\n",
    "    else:\n",
    "        print(\"%d is a prime number\"%num)\n",
    "elif num>=10 and num<=20:\n",
    "    if (num ** 2 >= 200 ):\n",
    "        print(\"Square of %d is greater than 200\"%num)\n",
    "    else:\n",
    "        print(\"Square of %d is less than 200\"%num)\n",
    "elif num > 20 and num < 100:\n",
    "    factors = [1,num]\n",
    "    \n",
    "    for i in range(2,num):\n",
    "            if num % i == 0 and i != num:\n",
    "                factors.append(i)\n",
    "    print(\"The factors are \",factors)\n",
    "else:\n",
    "    print(\"The number is too big for me to analyze\")\n",
    "    \n",
    "-->"
   ]
  },
  {
   "cell_type": "markdown",
   "metadata": {},
   "source": [
    "#### 10. Accept two numbers and an operation type from the user. The operation can be +,-,\\*,/,\\*\\* and then perform the operation on the two numbers."
   ]
  },
  {
   "cell_type": "code",
   "execution_count": null,
   "metadata": {},
   "outputs": [],
   "source": []
  },
  {
   "cell_type": "markdown",
   "metadata": {},
   "source": [
    "Double-click __here__ for the solution.\n",
    "\n",
    "<!-- Solution:\n",
    "\n",
    "num1 = int(input(\"Enter a number \"))\n",
    "num2 = int(input(\"Enter another number \"))\n",
    "\n",
    "op = input(\"Enter the operation you want to perform \")\n",
    "\n",
    "if op == \"+\":\n",
    "    print(\"The result of %d %s %d is %d\"%(num1,op,num2,num1+num2))\n",
    "elif  op == \"-\":\n",
    "    print(\"The result of %d %s %d is %d\"%(num1,op,num2,num1-num2))\n",
    "elif  op == \"*\":\n",
    "    print(\"The result of %d %s %d is %d\"%(num1,op,num2,num1*num2))\n",
    "elif  op == \"/\":\n",
    "    print(\"The result of %d %s %d is %d, remainder %d\"%(num1,op,num2,num1/num2,num1%num2))\n",
    "elif  op == \"**\":\n",
    "    print(\"The result of %d %s %d is %d\"%(num1,op,num2,num1**num2))\n",
    "else:\n",
    "    print(\"Invalid input\")\n",
    "    \n",
    "-->"
   ]
  },
  {
   "cell_type": "code",
   "execution_count": null,
   "metadata": {},
   "outputs": [],
   "source": []
  }
 ],
 "metadata": {
  "kernelspec": {
   "display_name": "Python 3",
   "language": "python",
   "name": "python3"
  },
  "language_info": {
   "codemirror_mode": {
    "name": "ipython",
    "version": 3
   },
   "file_extension": ".py",
   "mimetype": "text/x-python",
   "name": "python",
   "nbconvert_exporter": "python",
   "pygments_lexer": "ipython3",
   "version": "3.7.3"
  }
 },
 "nbformat": 4,
 "nbformat_minor": 2
}
