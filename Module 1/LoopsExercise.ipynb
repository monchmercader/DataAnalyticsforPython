{
 "cells": [
  {
   "cell_type": "markdown",
   "metadata": {},
   "source": [
    "#### 1. Create a for loop to iterate through data_arr and print each value in the array"
   ]
  },
  {
   "cell_type": "code",
   "execution_count": 8,
   "metadata": {},
   "outputs": [],
   "source": [
    "data_arr = np.linspace(1,50,30)"
   ]
  },
  {
   "cell_type": "code",
   "execution_count": null,
   "metadata": {},
   "outputs": [],
   "source": []
  },
  {
   "cell_type": "markdown",
   "metadata": {},
   "source": [
    "Double-click __here__ for the solution.\n",
    "\n",
    "<!-- Solution:\n",
    "\n",
    "for val in data_arr:\n",
    "    print(val)\n",
    "\n",
    "-->"
   ]
  },
  {
   "cell_type": "markdown",
   "metadata": {},
   "source": [
    "#### 2. Create a while loop to iterate through the data_arr and print each value in the array"
   ]
  },
  {
   "cell_type": "code",
   "execution_count": null,
   "metadata": {},
   "outputs": [],
   "source": []
  },
  {
   "cell_type": "markdown",
   "metadata": {},
   "source": [
    "Double-click __here__ for the solution.\n",
    "\n",
    "<!-- Solution:\n",
    "\n",
    "i=0\n",
    "while i<30:\n",
    "    print(data_arr[i])\n",
    "    i+=1\n",
    "-->"
   ]
  },
  {
   "cell_type": "markdown",
   "metadata": {},
   "source": [
    "#### 3. Use loops to manually add the values in the array and print the sum of the values. Use the in-built function to verify your answer.\n"
   ]
  },
  {
   "cell_type": "code",
   "execution_count": null,
   "metadata": {},
   "outputs": [],
   "source": []
  },
  {
   "cell_type": "markdown",
   "metadata": {},
   "source": [
    "Double-click __here__ for the solution.\n",
    "\n",
    "<!-- Solution:\n",
    "\n",
    "sumarr = 0\n",
    "for val in data_arr:\n",
    "    sumarr = sumarr+val\n",
    "\n",
    "print(sumarr)\n",
    "\n",
    "print(sum(data_arr))\n",
    "-->"
   ]
  },
  {
   "cell_type": "markdown",
   "metadata": {},
   "source": [
    "#### 4. Use for loop to print the square of even numbers between 2 and 50, both values inclusive"
   ]
  },
  {
   "cell_type": "code",
   "execution_count": null,
   "metadata": {},
   "outputs": [],
   "source": []
  },
  {
   "cell_type": "markdown",
   "metadata": {},
   "source": [
    "Double-click __here__ for the solution.\n",
    "\n",
    "<!-- Solution:\n",
    "\n",
    "for val in range(2,51,2):\n",
    "    print(val**2)\n",
    "    \n",
    "-->"
   ]
  },
  {
   "cell_type": "markdown",
   "metadata": {},
   "source": [
    "#### 5. Use for loop to find the array elements of `data_arr` in positions which are divisble by 3. Index position 0, will 1st position. "
   ]
  },
  {
   "cell_type": "code",
   "execution_count": null,
   "metadata": {},
   "outputs": [],
   "source": []
  },
  {
   "cell_type": "markdown",
   "metadata": {},
   "source": [
    "Double-click __here__ for the solution.\n",
    "\n",
    "<!-- Solution:\n",
    "\n",
    "for ind in range(3,31,3):\n",
    "    print(data_arr[ind-1])\n",
    "\n",
    "There are other ways in which this can be done too.\n",
    "-->"
   ]
  },
  {
   "cell_type": "markdown",
   "metadata": {},
   "source": [
    "#### 6. Use an infinite while loop to print all numbers from 1 to 10.\n",
    "\n",
    "*Infinite `while` loop is the one where the condition to check is always true. For example, `1<2`"
   ]
  },
  {
   "cell_type": "code",
   "execution_count": null,
   "metadata": {},
   "outputs": [],
   "source": []
  },
  {
   "cell_type": "markdown",
   "metadata": {},
   "source": [
    "Double-click __here__ for the solution.\n",
    "\n",
    "<!-- Solution:\n",
    "i=1\n",
    "while(True):\n",
    "    print(i)\n",
    "    i += 1\n",
    "    if(i>10):\n",
    "        break\n",
    "    \n",
    "There are other ways in which this can be done too.\n",
    "-->"
   ]
  },
  {
   "cell_type": "markdown",
   "metadata": {},
   "source": [
    "#### 7. Use while loop to print all numbers from 50 to 100 except numbers divisible by 3."
   ]
  },
  {
   "cell_type": "code",
   "execution_count": null,
   "metadata": {},
   "outputs": [],
   "source": []
  },
  {
   "cell_type": "markdown",
   "metadata": {},
   "source": [
    "Double-click __here__ for the solution.\n",
    "\n",
    "<!-- Solution:\n",
    "\n",
    "i=49\n",
    "while(i<100):\n",
    "    i += 1\n",
    "    if(i % 3 == 0):\n",
    "        continue\n",
    "    print(i)\n",
    "\n",
    "\n",
    "-->"
   ]
  },
  {
   "cell_type": "markdown",
   "metadata": {},
   "source": [
    "#### 8. Iterate through the array `mynumarr` below and find the number of occurences of each number and store them as a dictionary `dict_count` and print it. "
   ]
  },
  {
   "cell_type": "code",
   "execution_count": 72,
   "metadata": {},
   "outputs": [],
   "source": [
    "mynumarr = np.random.randint(1,11,100)\n",
    "dict_count = {'1':0,'2':0,'3':0,'4':0,'5':0,'6':0,'7':0,'8':0,'9':0,'10':0}\n"
   ]
  },
  {
   "cell_type": "code",
   "execution_count": null,
   "metadata": {},
   "outputs": [],
   "source": []
  },
  {
   "cell_type": "markdown",
   "metadata": {},
   "source": [
    "Double-click __here__ for the solution.\n",
    "\n",
    "<!-- Solution:\n",
    "\n",
    "for i in mynumarr:\n",
    "    dict_count[str(i)] = dict_count[str(i)]+1\n",
    "    \n",
    "print(dict_count)\n",
    "\n",
    "-->"
   ]
  },
  {
   "cell_type": "markdown",
   "metadata": {},
   "source": [
    "#### 9. Iterate through dict_count using for loop and print formatted output as below.\n",
    "\n",
    "`Number of 1s is 10`"
   ]
  },
  {
   "cell_type": "code",
   "execution_count": null,
   "metadata": {},
   "outputs": [],
   "source": []
  },
  {
   "cell_type": "markdown",
   "metadata": {},
   "source": [
    "Double-click __here__ for the solution.\n",
    "\n",
    "<!-- Solution:\n",
    "\n",
    "for key in dict_count.keys():\n",
    "    print(\"Number of %ss is %s\"%(key,dict_count[key]))\n",
    "\n",
    "-->"
   ]
  },
  {
   "cell_type": "markdown",
   "metadata": {},
   "source": [
    "### Run the following cell before you proceed to exercise 10.\n",
    "\n",
    "The following dataframe contains points scored by the teams as identified by the column header."
   ]
  },
  {
   "cell_type": "code",
   "execution_count": 73,
   "metadata": {},
   "outputs": [],
   "source": [
    "import pandas as pd\n",
    "\n",
    "arr = np.random.randint(1,100,150).reshape(30,5)\n",
    "afl_df = pd.DataFrame(arr,columns=['GeelongCats','Hawthorn','RichmondTigers','Collingwood','Magpies'])\n"
   ]
  },
  {
   "cell_type": "markdown",
   "metadata": {},
   "source": [
    "#### 10. Print each row in the dataframe using for loop, as a formatted output as follows\n",
    "\n",
    "```\n",
    "GeelongCats scored ___________\n",
    "\n",
    "Hawthorn scored ___________\n",
    "\n",
    "RichmondTigers scored ___________\n",
    "\n",
    "Collingwood scored ___________\n",
    "\n",
    "Magpies scored ___________\n",
    "\n",
    "```\n",
    "\n",
    "Leave two lines between each set of output.\n"
   ]
  },
  {
   "cell_type": "code",
   "execution_count": null,
   "metadata": {},
   "outputs": [],
   "source": [
    "    "
   ]
  },
  {
   "cell_type": "markdown",
   "metadata": {},
   "source": [
    "Double-click __here__ for the solution.\n",
    "\n",
    "<!-- Solution:\n",
    "\n",
    "for row in afl_df.iterrows():\n",
    "    print(\"\\nGeelongCats scored %d\"%(row[1][0]))\n",
    "    print(\"Hawthorn scored %d\"%(row[1][1]))\n",
    "    print(\"RichmondTigers scored %d\"%(row[1][2]))\n",
    "    print(\"Collingwood scored %d\"%(row[1][3]))\n",
    "    print(\"Magpies scored %d\\n\"%(row[1][4]))\n",
    "\n",
    "-->"
   ]
  }
 ],
 "metadata": {
  "kernelspec": {
   "display_name": "Python 3",
   "language": "python",
   "name": "python3"
  },
  "language_info": {
   "codemirror_mode": {
    "name": "ipython",
    "version": 3
   },
   "file_extension": ".py",
   "mimetype": "text/x-python",
   "name": "python",
   "nbconvert_exporter": "python",
   "pygments_lexer": "ipython3",
   "version": "3.7.3"
  }
 },
 "nbformat": 4,
 "nbformat_minor": 2
}
