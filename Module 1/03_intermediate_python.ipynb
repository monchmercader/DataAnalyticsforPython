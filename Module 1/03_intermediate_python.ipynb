{
 "cells": [
  {
   "cell_type": "markdown",
   "metadata": {},
   "source": [
    "# 03 Intermediate Python"
   ]
  },
  {
   "cell_type": "markdown",
   "metadata": {},
   "source": [
    "> \"You don’t learn to walk by following rules. You learn by doing, and by falling over.\" ~ Richard Branson\n",
    "\n",
    "> \"The more I read, the more I acquire, the more certain I am that I know nothing.\" ~ Voltaire\n",
    "\n",
    "> \"Wisdom is learning what to overlook.\" ~ William James"
   ]
  },
  {
   "cell_type": "markdown",
   "metadata": {},
   "source": [
    "![design](https://images.squarespace-cdn.com/content/v1/550de105e4b05c49fa2bba03/1427382478878-8C6Q2AZEMDSIXN6FDM33/ke17ZwdGBToddI8pDm48kDvWa9rkDjGQjutb1Mb5UhV7gQa3H78H3Y0txjaiv_0fDoOvxcdMmMKkDsyUqMSsMWxHk725yiiHCCLfrh8O1z4YTzHvnKhyp6Da-NYroOW3ZGjoBKy3azqku80C789l0jAoOkRmPE63FUjiJOEKAz703yOF8ekCQn50Wxz5T7EJdxiRQkG9SuxresrSOcnJaQ/13.nobels%2C+no+degrees_new_layout.jpg?format=2500w)\n",
    "\n",
    "**Source:** [Giorgia Lupi](http://giorgialupi.com/lalettura)"
   ]
  },
  {
   "cell_type": "markdown",
   "metadata": {},
   "source": [
    "# Welcome to Module 2"
   ]
  },
  {
   "cell_type": "markdown",
   "metadata": {},
   "source": [
    "I. Recap of Module 1  \n",
    "II. Learning Outcomes  \n",
    "\n",
    "\n",
    "__Outline for Module 2 Part 1:__\n",
    "\n",
    "1. List, Arrays, and Matrices\n",
    "2. More on Dictionaries\n",
    "3. More on control flow\n",
    "    - Conditional statements\n",
    "    - Functions\n",
    "    - Loops  \n",
    "    - List Comprehensions"
   ]
  },
  {
   "cell_type": "markdown",
   "metadata": {},
   "source": [
    "# I. Recap of Module 1"
   ]
  },
  {
   "cell_type": "code",
   "execution_count": 8,
   "metadata": {},
   "outputs": [
    {
     "ename": "SyntaxError",
     "evalue": "invalid syntax (<ipython-input-8-49a188887dc5>, line 3)",
     "output_type": "error",
     "traceback": [
      "\u001b[1;36m  File \u001b[1;32m\"<ipython-input-8-49a188887dc5>\"\u001b[1;36m, line \u001b[1;32m3\u001b[0m\n\u001b[1;33m    1. Data types help us have a clear view of the information we are dealing with. They can be `int`, `string`, `float`, or `booleans`.\u001b[0m\n\u001b[1;37m       ^\u001b[0m\n\u001b[1;31mSyntaxError\u001b[0m\u001b[1;31m:\u001b[0m invalid syntax\n"
     ]
    }
   ],
   "source": [
    "##Let's begin by summarising what we learned in lesson 1.\n",
    "\n",
    "1. Data types help us have a clear view of the information we are dealing with. They can be `int`, `string`, `float`, or `booleans`.\n",
    "2. Data structures allow us to hold information in different formats and in different ways. Some of the most important data structures we have at our disposal are `dictionaries`, `tuples`, `lists`, and `sets`.\n",
    "    - Dictionaries are key-value pair data structures that can hold different kind of information for us and does not follow the same convension or strictness of other data types/structures and variables. Dictionaries are also mutable (a.k.a. the values they hold for us can be changed).\n",
    "    - Lists are the most versatile data structure in Python, they can hold all sorts of data types --and strucures-- and are also mutable.\n",
    "    - Tuples are lists cousins, but that they don't like change and are immutable.\n",
    "    - Sets are like tuples, except that sets don't like to hold the same data twice (i.e. they don't like to have duplicates).\n",
    "3. Variables are buckets that hold specific objects for us. They can only have letters, numbers, and underscores for their names. They cannot begin with a number, and they have to be followed by an equal (`=`) sign that represents assignment.\n",
    "4. There are several ways for printing in Python, and we will use all of them throughout the course.\n",
    "    - `print(f\"Something {cool}\")`\n",
    "    - `print(\"Something {}\".format(\"cool\"))`\n",
    "    - `print(\"This is cool too!\")`\n",
    "    - `print(\"This is even %s!\" % \"cooler\")`\n",
    "5. Math symbols you should always remember as they are part of your Python calculator.\n",
    "\n",
    "| Operator | What this does! |\n",
    "|------|---------------------|\n",
    "|  \\+  |  Addition           |\n",
    "|  \\-  |  Subtraction        |\n",
    "|  \\*  |  Multiplication     |\n",
    "|  \\** |  Exponentiation     |\n",
    "|  \\/  |  Division           |\n",
    "|   %  |  Modulo or remainder|\n",
    "|  //  |  Floor division     |  \n",
    "\n",
    "6. Importing packages conventions.  \n",
    "\n",
    "```python \n",
    "\n",
    "import package  # import an entire package and access its element with a .method()\n",
    "\n",
    "import package as pk # give your package a nickname\n",
    "\n",
    "from package import a_function # import a specific instance of that package you want/need\n",
    "\n",
    "from package import a_function as a_func # import a specific instance of that package you want/need with a nickname\n",
    "```  \n",
    "\n",
    "7. Installing packages. Remember to use a `!` before a shell command when installing a package from a notebook.  \n",
    "\n",
    "```shell  \n",
    "\n",
    "pip install package # Python's own package manager\n",
    "conda install -c conda-forge statsmodels # Anaconda's package manager\n",
    "```  \n",
    "\n",
    "8. Loops help us do tasks repeatedly. The `a_var` below can be any word or letter we'd like.\n",
    "\n",
    "```python\n",
    "for a_var in a_list:\n",
    "    \"\"\"\n",
    "    Something to do with all the \n",
    "    a_var's inside a_list.\n",
    "    e.g. print the elements\n",
    "    \"\"\"\n",
    "    print(a_var)\n",
    "```  \n",
    "\n",
    "9. `if-else` statements allow us to do operations based on logical statements that evaluate to True or False.  \n",
    "\n",
    "```python\n",
    "\n",
    "if 2 + 2 == 4:\n",
    "    print(\"Yay, I knew it :)\")\n",
    "else:\n",
    "    print(\"Oopss, let me revisit this one first\")\n",
    "```  \n",
    "\n",
    "10. Functions help us save time by allowing us to package simple-to-complex operations into one place. They follow the DRY convention, which stands for \"Don't Repeat Yourself.\"\n",
    "\n",
    "```python\n",
    "def do_something_cool(name, age): # here you define your function and the inputs it should take\n",
    "    \"\"\"\n",
    "    Do something cool with your name and your age\n",
    "    then return or print that cool thing\n",
    "    \"\"\"\n",
    "    return \"the cool thing you just did\"\n",
    "\n",
    "do_something_cool(name=\"Alex\", age=35) # now test your function with some data\n",
    "```"
   ]
  },
  {
   "cell_type": "markdown",
   "metadata": {},
   "source": [
    "# II. Learning Outcomes"
   ]
  },
  {
   "cell_type": "markdown",
   "metadata": {},
   "source": [
    "By the end of this lesson you will have:\n",
    "\n",
    "1. Learned about how to do computations with arrays and matrices\n",
    "2. Learned the basics of NumPy\n",
    "3. Solidified your knowledge of loops, if-else statements, and functions\n",
    "4. Learned the basics of how to load data into Python\n",
    "5. A working knowledge of why we store data using different formats and when to use which"
   ]
  },
  {
   "cell_type": "markdown",
   "metadata": {},
   "source": [
    "# 1. Lists, Arrays, and Matrices"
   ]
  },
  {
   "cell_type": "markdown",
   "metadata": {},
   "source": [
    "`Arrays` in computer science and data analytics are collections (or `lists`) of elements that have an index attached to them. Think of any of the spreadsheet tools you have used in the past, most of them probably had rows and columns (which are each arrays), and the combination of both, a cell or element, came with a row number (the index), and a column letter (the name of another array).\n",
    "\n",
    "In Python, lists are our first representation of arrays and nested lists are our first representation of a `matrix` (e.g. the entire spreasheet).\n",
    "\n",
    "Let's dive a bit deeper into all of these."
   ]
  },
  {
   "cell_type": "markdown",
   "metadata": {},
   "source": [
    "# 1.1 Lists and Arrays"
   ]
  },
  {
   "cell_type": "markdown",
   "metadata": {},
   "source": [
    "In the previous lesson, we introduced lists as a highly useful data structure that allows us to have multiple data types and other data structures in one place. This versitile functionality allow us to depend on lists for many simple and complex tasks, such as representing the rows and the columns of a spreadsheet.\n",
    "\n",
    "You can think of lists inside nested lists as either a row (a one dimensional array), or a column (another one dimensional array). Just like a spreadsheet can hold text, numbers, and functions in a single cell, so can lists in Python but to an even larger extent.\n",
    "\n",
    "Remember, lists can be created with two square brackets `[]` or with the function `list()` (brackets is easier and faster), its elements have to be separated by commas, and you can always verify that the data type is correct by wrapping the `type()` function around your list.\n",
    "\n",
    "Let's look at some examples."
   ]
  },
  {
   "cell_type": "code",
   "execution_count": 2,
   "metadata": {},
   "outputs": [
    {
     "name": "stdout",
     "output_type": "stream",
     "text": [
      "['Amazon', 'Facebook', 'Google', 'Tesla', 'Apple', 'General Motors']\n",
      "<class 'list'>\n"
     ]
    }
   ],
   "source": [
    "companies = ['Amazon', 'Facebook', 'Google', 'Tesla', 'Apple', 'General Motors']\n",
    "year_founded = [1996, 1998, 2004, 2003, 1976, 1908]\n",
    "print(companies)\n",
    "print(type(year_founded))"
   ]
  },
  {
   "cell_type": "markdown",
   "metadata": {},
   "source": [
    "Now that we have two lists to work with, let's go over how to access the items in these arrays. Accessing items in lists or arrays is also called slicing. Think of this as slicing a cake, our intentions might be to eat a whole cake every time we see one (I definitely do), but most-often than not, one piece is all we need to enjoy the cake and the rest can be safely store in a new plate or container. For example:\n",
    "\n",
    "```python\n",
    "# Imagine we have a chocolate cake\n",
    "cake_slices = [1, 1, 1, 1, 1, 1, 1, 1] # with 8 slices\n",
    "slices_left = cake_slices[:6] # and we ate two in a sit\n",
    "print(sum(slices_left))\n",
    "# 6\n",
    "```\n",
    "\n",
    "Lists have what is called an index. Think of indexes as the numbers you will see in the rows of a spreadsheet and think of the variables as the letters of the columns. With that in mind, we know that Amazon in our companies list is at the beginning, hence, it has an index of 0. Remember, Python starts counting from 0.\n",
    "\n",
    "Let's access several elements to warm up."
   ]
  },
  {
   "cell_type": "code",
   "execution_count": 3,
   "metadata": {},
   "outputs": [
    {
     "data": {
      "text/plain": [
       "'Amazon'"
      ]
     },
     "execution_count": 3,
     "metadata": {},
     "output_type": "execute_result"
    }
   ],
   "source": [
    "companies[0]"
   ]
  },
  {
   "cell_type": "code",
   "execution_count": 4,
   "metadata": {},
   "outputs": [
    {
     "data": {
      "text/plain": [
       "1976"
      ]
     },
     "execution_count": 4,
     "metadata": {},
     "output_type": "execute_result"
    }
   ],
   "source": [
    "year_founded[4]"
   ]
  },
  {
   "cell_type": "markdown",
   "metadata": {},
   "source": [
    "To select a range of values in our list we can use a colon `:`, where the number on the left will be the starting point, and the number on the right the element our slice will go up to and not include. Slicing lists and other data structures in Python is, for the most part, always not-inclusive of the last item.\n",
    "\n",
    "We can also leave the right-hand side of the colon `[2:]` in our slice opened to signal that we want to select all of the values from our starting point to the end of the list.\n",
    "\n",
    "The same happens when we do the opposite and provide an ending point but not a starting one, our slice will select all values from the beginning and up to, but not including, the number on the right of the column."
   ]
  },
  {
   "cell_type": "code",
   "execution_count": 5,
   "metadata": {},
   "outputs": [
    {
     "data": {
      "text/plain": [
       "[1996, 1998, 2004]"
      ]
     },
     "execution_count": 5,
     "metadata": {},
     "output_type": "execute_result"
    }
   ],
   "source": [
    "year_founded[0:3]"
   ]
  },
  {
   "cell_type": "code",
   "execution_count": 6,
   "metadata": {},
   "outputs": [
    {
     "data": {
      "text/plain": [
       "['Tesla', 'Apple', 'General Motors']"
      ]
     },
     "execution_count": 6,
     "metadata": {},
     "output_type": "execute_result"
    }
   ],
   "source": [
    "companies[3:]"
   ]
  },
  {
   "cell_type": "code",
   "execution_count": 7,
   "metadata": {},
   "outputs": [
    {
     "data": {
      "text/plain": [
       "[1996, 1998, 2004]"
      ]
     },
     "execution_count": 7,
     "metadata": {},
     "output_type": "execute_result"
    }
   ],
   "source": [
    "year_founded[:3]"
   ]
  },
  {
   "cell_type": "code",
   "execution_count": null,
   "metadata": {},
   "outputs": [],
   "source": [
    "# if you try to access a range that doesn't match the length of the list,\n",
    "# you will get an all of the elements in the list and nothing more\n",
    "year_founded[0:10] # this list does not have 10 elements"
   ]
  },
  {
   "cell_type": "markdown",
   "metadata": {},
   "source": [
    "Sometimes, lists become quite long and it is difficult to see what's in between or at the end. To see the end on a list, we can use the the minus `-` with any number except zero, and Python will give us the adequate number for such location. For example, `-1` will be equal to the last element of the list, `-2` will be equal to the second to last, and so forth."
   ]
  },
  {
   "cell_type": "code",
   "execution_count": 8,
   "metadata": {},
   "outputs": [
    {
     "data": {
      "text/plain": [
       "'General Motors'"
      ]
     },
     "execution_count": 8,
     "metadata": {},
     "output_type": "execute_result"
    }
   ],
   "source": [
    "companies[-1]"
   ]
  },
  {
   "cell_type": "code",
   "execution_count": 9,
   "metadata": {},
   "outputs": [
    {
     "data": {
      "text/plain": [
       "'Apple'"
      ]
     },
     "execution_count": 9,
     "metadata": {},
     "output_type": "execute_result"
    }
   ],
   "source": [
    "companies[-2]"
   ]
  },
  {
   "cell_type": "markdown",
   "metadata": {},
   "source": [
    "You can also use negative indexes with slicers. Sometimes there is a very good reason to do so, e.g. with extremely long lists for which you know you need the last or second to last elements, other times, it might give you a headache to count that way."
   ]
  },
  {
   "cell_type": "code",
   "execution_count": 10,
   "metadata": {},
   "outputs": [
    {
     "data": {
      "text/plain": [
       "['Amazon', 'Facebook', 'Google', 'Tesla']"
      ]
     },
     "execution_count": 10,
     "metadata": {},
     "output_type": "execute_result"
    }
   ],
   "source": [
    "companies[:-2] # ignores the last two"
   ]
  },
  {
   "cell_type": "code",
   "execution_count": 11,
   "metadata": {},
   "outputs": [
    {
     "data": {
      "text/plain": [
       "['Tesla', 'Apple', 'General Motors']"
      ]
     },
     "execution_count": 11,
     "metadata": {},
     "output_type": "execute_result"
    }
   ],
   "source": [
    "companies[-3:] # starts from the third to last element and goes all the way to the end of the list"
   ]
  },
  {
   "cell_type": "markdown",
   "metadata": {},
   "source": [
    "We can also select every other element inside a list with a double colon where the first number is the starting point, the sencon is the ending point, and the third is the step."
   ]
  },
  {
   "cell_type": "code",
   "execution_count": 12,
   "metadata": {},
   "outputs": [
    {
     "data": {
      "text/plain": [
       "[0, 1, 2, 3, 4, 5, 6, 7, 8, 9, 10, 11, 12, 13, 14, 15]"
      ]
     },
     "execution_count": 12,
     "metadata": {},
     "output_type": "execute_result"
    }
   ],
   "source": [
    "steping_list = list(range(16))\n",
    "steping_list"
   ]
  },
  {
   "cell_type": "code",
   "execution_count": 13,
   "metadata": {},
   "outputs": [
    {
     "data": {
      "text/plain": [
       "[1, 3, 5, 7, 9, 11, 13, 15]"
      ]
     },
     "execution_count": 13,
     "metadata": {},
     "output_type": "execute_result"
    }
   ],
   "source": [
    "steping_list[1::2]"
   ]
  },
  {
   "cell_type": "code",
   "execution_count": 14,
   "metadata": {},
   "outputs": [
    {
     "data": {
      "text/plain": [
       "[0, 2, 4, 6, 8]"
      ]
     },
     "execution_count": 14,
     "metadata": {},
     "output_type": "execute_result"
    }
   ],
   "source": [
    "steping_list[:10:2]"
   ]
  },
  {
   "cell_type": "markdown",
   "metadata": {},
   "source": [
    "We can append elements to a list or different lists together with a `+` sign or with the `.append()` method. "
   ]
  },
  {
   "cell_type": "code",
   "execution_count": 15,
   "metadata": {},
   "outputs": [
    {
     "name": "stdout",
     "output_type": "stream",
     "text": [
      "[1, 2, 3, 4]\n",
      "[5, 6, 7, 8]\n",
      "[1, 2, 3, 4, 5, 6, 7, 8]\n"
     ]
    }
   ],
   "source": [
    "a_list = [1, 2, 3, 4]\n",
    "b_list = [5, 6, 7, 8]\n",
    "\n",
    "c_list = a_list + b_list\n",
    "\n",
    "print(a_list)\n",
    "print(b_list)\n",
    "print(c_list)"
   ]
  },
  {
   "cell_type": "markdown",
   "metadata": {},
   "source": [
    "We can also create an empty list with the square brackets `[]` and `.append()` anything to it. This is done very often in Python and usually through loops."
   ]
  },
  {
   "cell_type": "code",
   "execution_count": 16,
   "metadata": {},
   "outputs": [
    {
     "name": "stdout",
     "output_type": "stream",
     "text": [
      "[3, 17, 25]\n"
     ]
    }
   ],
   "source": [
    "# Regular version\n",
    "d_list = [] # an empty list\n",
    "d_list.append(3)\n",
    "d_list.append(17)\n",
    "d_list.append(25)\n",
    "print(d_list)"
   ]
  },
  {
   "cell_type": "markdown",
   "metadata": {},
   "source": [
    "If we want to have the last value of our list removed, say we don't want to have General Motos in our list of companies anymore but rather have Microsoft, we can use the method `.pop()`. You can use this method with an index value to indicate which element of your list you would like to see disappear, or you can choose to use it without any arguments and `.pop()` will remove the last element of the list.\n",
    "\n",
    "Let's first use `.pop()` without an index and then see what happens with an index."
   ]
  },
  {
   "cell_type": "code",
   "execution_count": 17,
   "metadata": {},
   "outputs": [
    {
     "name": "stdout",
     "output_type": "stream",
     "text": [
      "Before: ['Amazon', 'Facebook', 'Google', 'Tesla', 'Apple', 'General Motors']\n",
      "------------------------------------------------------------\n",
      "After: ['Amazon', 'Facebook', 'Google', 'Tesla', 'Apple']\n"
     ]
    }
   ],
   "source": [
    "# Without and index\n",
    "print(\"Before:\", companies)\n",
    "print(\"-\" * 60)\n",
    "companies.pop()\n",
    "print(\"After:\", companies)"
   ]
  },
  {
   "cell_type": "code",
   "execution_count": 18,
   "metadata": {},
   "outputs": [
    {
     "name": "stdout",
     "output_type": "stream",
     "text": [
      "Before: ['Amazon', 'Facebook', 'Google', 'Tesla', 'Apple']\n",
      "------------------------------------------------------------\n",
      "After: ['Amazon', 'Facebook', 'Google', 'Apple']\n"
     ]
    }
   ],
   "source": [
    "# With an index\n",
    "print(\"Before:\", companies)\n",
    "print(\"-\" * 60)\n",
    "companies.pop(3) # select the element at index 3\n",
    "print(\"After:\", companies)"
   ]
  },
  {
   "cell_type": "markdown",
   "metadata": {},
   "source": [
    "One last thing that is useful to know about `.pop()` is that the element that gets removed from the list can be immediately added to a variable."
   ]
  },
  {
   "cell_type": "code",
   "execution_count": 19,
   "metadata": {},
   "outputs": [
    {
     "name": "stdout",
     "output_type": "stream",
     "text": [
      "Before: ['Australia', 'New Zealand', 'Uganda', 'Portugal', 'Taiwan']\n",
      "----------------------------------------------------------------------\n",
      "After: ['Australia', 'New Zealand', 'Uganda', 'Portugal']\n",
      "------------------------------------------------------------\n",
      "New variable: Taiwan\n"
     ]
    }
   ],
   "source": [
    "# Add the `.pop()`ed value to the a new variable\n",
    "countries = ['Australia', 'New Zealand', 'Uganda', 'Portugal', 'Taiwan']\n",
    "print(\"Before:\", countries)\n",
    "print(\"-\" * 70)\n",
    "taiwan = countries.pop()\n",
    "print(\"After:\", countries)\n",
    "print(\"-\" * 60)\n",
    "print(\"New variable:\", taiwan)"
   ]
  },
  {
   "cell_type": "markdown",
   "metadata": {},
   "source": [
    "If you would like to insert a new element at a specific index location, you can use the method `.insert()` which takes two arguments, the first is the index of the list where you would like to put the element at, and the second is the element or elements you will be inserting to your list.\n",
    "\n",
    "Since we like Tesla, let's add it back to our companies list at the same location it was at before. 🚗"
   ]
  },
  {
   "cell_type": "code",
   "execution_count": 20,
   "metadata": {},
   "outputs": [
    {
     "name": "stdout",
     "output_type": "stream",
     "text": [
      "Before: ['Amazon', 'Facebook', 'Google', 'Apple']\n",
      "------------------------------------------------------------\n",
      "After: ['Amazon', 'Facebook', 'Google', 'Tesla', 'Apple']\n"
     ]
    }
   ],
   "source": [
    "# Adding Tesla back\n",
    "\n",
    "print(\"Before:\", companies)\n",
    "print(\"-\" * 60)\n",
    "companies.insert(3, \"Tesla\")\n",
    "print(\"After:\", companies)"
   ]
  },
  {
   "cell_type": "code",
   "execution_count": 21,
   "metadata": {},
   "outputs": [
    {
     "name": "stdout",
     "output_type": "stream",
     "text": [
      "Before: ['Amazon', 'Facebook', 'Google', 'Tesla', 'Apple']\n",
      "------------------------------------------------------------\n",
      "After: ['Amazon', 'Facebook', 'Google', 'Tesla', 'Apple', 'General Motors']\n"
     ]
    }
   ],
   "source": [
    "# Adding back General Motors too\n",
    "\n",
    "print(\"Before:\", companies)\n",
    "print(\"-\" * 60)\n",
    "companies.insert(5, \"General Motors\")\n",
    "print(\"After:\", companies)"
   ]
  },
  {
   "cell_type": "markdown",
   "metadata": {},
   "source": [
    "If we would like to add a list to another list in a more functional way, using something similar to `.append()` or `.insert()`, we can use the method `.extend()` on the list we would like to modify. Then, we can pass as an argument the additional one (i.e. the one we want to add)."
   ]
  },
  {
   "cell_type": "code",
   "execution_count": 22,
   "metadata": {},
   "outputs": [
    {
     "name": "stdout",
     "output_type": "stream",
     "text": [
      "Before a_list: [1, 2, 3, 4]\n",
      "Before b_list: [5, 6, 7, 8]\n",
      "-------------------------\n",
      "After, combined lists: [1, 2, 3, 4, 5, 6, 7, 8]\n"
     ]
    }
   ],
   "source": [
    "print(\"Before a_list:\", a_list)\n",
    "print(\"Before b_list:\", b_list)\n",
    "print(\"-\" * 25)\n",
    "a_list.extend(b_list)\n",
    "print(\"After, combined lists:\", a_list)"
   ]
  },
  {
   "cell_type": "markdown",
   "metadata": {},
   "source": [
    "It is important point out the difference between funcs and methods again as it is subtle but very important. A method is usually applied to the original data type or structure while the function generates a new data type or structure. Think of this as:\n",
    "\n",
    "- `function(object)` --> How can I **transform** or use data\n",
    "- `object.function()` --> How can I **modify** the existing data type or structure\n",
    "\n",
    "Other useful functions that are always available in Python are `min()`, `max()`, `sorted()`, `sum()`, and many, many more that you can explore yourself by going to the following link, [built-in Python funcs](https://docs.python.org/3/library/functions.html).\n",
    "\n",
    "You can also inspect all of the functions available in a module by using the function dir`dir(module)` after you have imported the module.\n",
    "\n",
    "Let's compare some of the bult-in functions since you will use some of them quite often in data analytics."
   ]
  },
  {
   "cell_type": "code",
   "execution_count": 23,
   "metadata": {},
   "outputs": [
    {
     "name": "stdout",
     "output_type": "stream",
     "text": [
      "This list is now sorted: [1, 2, 3, 4, 5, 5, 8, 9, 11, 11, 13, 16, 17, 20, 21]\n",
      "------------------------------------------------------------------------------------------\n",
      "But it didn't stay like that for long: [5, 20, 1, 3, 16, 9, 8, 13, 11, 5, 4, 2, 11, 17, 21]\n"
     ]
    }
   ],
   "source": [
    "numbers = [5, 20, 1, 3, 16, 9, 8, 13, 11, 5, 4, 2, 11, 17, 21]\n",
    "\n",
    "# Let's first compare the method sort with the function sorted\n",
    "print(f\"This list is now sorted: {sorted(numbers)}\")\n",
    "print('-' * 90)\n",
    "print(f\"But it didn't stay like that for long: {numbers}\")"
   ]
  },
  {
   "cell_type": "code",
   "execution_count": 24,
   "metadata": {},
   "outputs": [
    {
     "name": "stdout",
     "output_type": "stream",
     "text": [
      "This list was sorted, and it stayed like that --> [1, 2, 3, 4, 5, 5, 8, 9, 11, 11, 13, 16, 17, 20, 21]\n"
     ]
    }
   ],
   "source": [
    "numbers.sort()\n",
    "print(f\"This list was sorted, and it stayed like that --> {numbers}\")"
   ]
  },
  {
   "cell_type": "markdown",
   "metadata": {},
   "source": [
    "When we have lists or arrays of numbers we will often want to explore their content. For example, knowing the maximum and minimum values in a list gives us a sense of the range of the numbers in that array. In addition, knowing the length and the mode will help us understand how many elements or data points are in our arrays and how often does the most repeated one, or the most repeated ones, appear."
   ]
  },
  {
   "cell_type": "code",
   "execution_count": 25,
   "metadata": {},
   "outputs": [
    {
     "name": "stdout",
     "output_type": "stream",
     "text": [
      "The maximum value in our array is: 21\n",
      "The minimum value in our array is: 1\n",
      "The lenght of our array is: 15\n",
      "The range of our array is: 20\n"
     ]
    }
   ],
   "source": [
    "print(f\"The maximum value in our array is: {max(numbers)}\")\n",
    "print(f\"The minimum value in our array is: {min(numbers)}\")\n",
    "print(f\"The lenght of our array is: {len(numbers)}\")\n",
    "print(f\"The range of our array is: {max(numbers) - min(numbers)}\")"
   ]
  },
  {
   "cell_type": "markdown",
   "metadata": {},
   "source": [
    "We can find out the index of any element in our list by using the `.index()` method and passing to it the element we are interested in.\n",
    "\n",
    "For example, say we are interested in knowing where the number 21 is located at in our list so that we can remove it. With the `.index()` all we need to do is pass that method to it, and Python will provide us with its location."
   ]
  },
  {
   "cell_type": "code",
   "execution_count": 26,
   "metadata": {},
   "outputs": [
    {
     "data": {
      "text/plain": [
       "14"
      ]
     },
     "execution_count": 26,
     "metadata": {},
     "output_type": "execute_result"
    }
   ],
   "source": [
    "numbers.index(21)"
   ]
  },
  {
   "cell_type": "markdown",
   "metadata": {},
   "source": [
    "Our sorted list called `numbers` has (a length of) 15 elements, and since its maximum value is 21, the index of this max number is 14, or simply, the last index.\n",
    "\n",
    "We can fully copy a list in several different ways but we will focus on the following two most of the time.\n",
    "- The first is by slicing it completely with `[:]` at the end.\n",
    "- The second is  using the method `.copy()` on a list and assigning the copy to a new variable.  \n",
    "\n",
    "**Note:** in most cases, you always want to assign the new copy to a new variable or object you are working with."
   ]
  },
  {
   "cell_type": "code",
   "execution_count": 27,
   "metadata": {},
   "outputs": [
    {
     "name": "stdout",
     "output_type": "stream",
     "text": [
      "Our original list:  [1, 2, 3, 4, 5, 6, 7, 8]\n",
      "Our original list again:  [1, 2, 3, 4, 5, 6, 7]\n",
      "Our new (unaffected) copy:  [1, 2, 3, 4, 5, 6, 7, 8]\n"
     ]
    }
   ],
   "source": [
    "print(\"Our original list: \", a_list)\n",
    "a_copy = a_list[:]\n",
    "a_list.pop()\n",
    "print(\"Our original list again: \", a_list)\n",
    "print(\"Our new (unaffected) copy: \", a_copy)"
   ]
  },
  {
   "cell_type": "markdown",
   "metadata": {},
   "source": [
    "We will sometimes need to delete some or all of the elements in a list. To do this, we can either use `del some_list` or the method `.clear()` on our list."
   ]
  },
  {
   "cell_type": "code",
   "execution_count": 13,
   "metadata": {},
   "outputs": [
    {
     "name": "stdout",
     "output_type": "stream",
     "text": [
      "[1, 2, 3, 5]\n"
     ]
    }
   ],
   "source": [
    "temporary_list_a = [1, 2, 3, 4, 5]\n",
    "\n",
    "# Let's first delete a single element\n",
    "\n",
    "del temporary_list_a[3] # this will delete the element at index two which is 3\n",
    "print(temporary_list_a)"
   ]
  },
  {
   "cell_type": "code",
   "execution_count": 14,
   "metadata": {},
   "outputs": [
    {
     "name": "stdout",
     "output_type": "stream",
     "text": [
      "[1, 2, 3, 5]\n"
     ]
    }
   ],
   "source": [
    "# No slice will delete the full list and we will receive an error\n",
    "# if we try to print it after deleting it\n",
    "\n",
    "# del temporary_list_a # deletes the full list\n",
    "print(temporary_list_a) # can't print anything"
   ]
  },
  {
   "cell_type": "code",
   "execution_count": 30,
   "metadata": {},
   "outputs": [
    {
     "name": "stdout",
     "output_type": "stream",
     "text": [
      "[6, 7, 8, 9, 10]\n"
     ]
    }
   ],
   "source": [
    "# let's try the next method with the following list\n",
    "\n",
    "temporary_list_b = [6, 7, 8, 9, 10]\n",
    "print(temporary_list_b)"
   ]
  },
  {
   "cell_type": "code",
   "execution_count": 31,
   "metadata": {},
   "outputs": [
    {
     "name": "stdout",
     "output_type": "stream",
     "text": [
      "[]\n"
     ]
    }
   ],
   "source": [
    "# The clear method leaves an empty list behind but does not delete the variable holding it\n",
    "temporary_list_b.clear()\n",
    "print(temporary_list_b)"
   ]
  },
  {
   "cell_type": "markdown",
   "metadata": {},
   "source": [
    "## Exercise 1"
   ]
  },
  {
   "cell_type": "markdown",
   "metadata": {},
   "source": [
    "Create a range of 20 numbers and create a slice of the last 5 elements.\n",
    "- Name the list `first_list`.\n",
    "- Name the slice `first_slice`."
   ]
  },
  {
   "cell_type": "code",
   "execution_count": 33,
   "metadata": {},
   "outputs": [
    {
     "name": "stdout",
     "output_type": "stream",
     "text": [
      "[0, 1, 2, 3, 4, 5, 6, 7, 8, 9, 10, 11, 12, 13, 14, 15, 16, 17, 18, 19]\n"
     ]
    }
   ],
   "source": [
    "first_list = list(range(20))\n",
    "print(first_list)"
   ]
  },
  {
   "cell_type": "code",
   "execution_count": 35,
   "metadata": {},
   "outputs": [
    {
     "name": "stdout",
     "output_type": "stream",
     "text": [
      "[15, 16, 17, 18, 19]\n"
     ]
    }
   ],
   "source": [
    "first_slice = first_list[-5:]\n",
    "print(first_slice)\n"
   ]
  },
  {
   "cell_type": "code",
   "execution_count": null,
   "metadata": {},
   "outputs": [],
   "source": []
  },
  {
   "cell_type": "markdown",
   "metadata": {},
   "source": [
    "## Exercise 2"
   ]
  },
  {
   "cell_type": "markdown",
   "metadata": {},
   "source": [
    "- Create a list with string data only and name it `string_list`. Add at least 5 elements.\n",
    "- Create a slice of at least two elements and assign it to a variable called `string_slice`.\n",
    "- Create a slice of one element of your list with a further slice of one letter. Assign it to a variable called `tiny_slice`."
   ]
  },
  {
   "cell_type": "code",
   "execution_count": 36,
   "metadata": {},
   "outputs": [
    {
     "name": "stdout",
     "output_type": "stream",
     "text": [
      "['Hi', 'How', 'Are', 'You', 'Today']\n"
     ]
    }
   ],
   "source": [
    "string_list = ['Hi', 'How', 'Are', 'You', 'Today']\n",
    "print(string_list)"
   ]
  },
  {
   "cell_type": "code",
   "execution_count": 38,
   "metadata": {},
   "outputs": [
    {
     "name": "stdout",
     "output_type": "stream",
     "text": [
      "['Hi', 'How', 'Are', 'You', 'Today']\n",
      "['Hi', 'How']\n",
      "w\n"
     ]
    }
   ],
   "source": [
    "string_slice = string_list[:2]\n",
    "tiny_slice = string_slice[1][2]\n",
    "\n",
    "print(string_list)\n",
    "print(string_slice)\n",
    "print(tiny_slice)\n"
   ]
  },
  {
   "cell_type": "code",
   "execution_count": null,
   "metadata": {},
   "outputs": [],
   "source": []
  },
  {
   "cell_type": "markdown",
   "metadata": {},
   "source": [
    "## Exercise 3"
   ]
  },
  {
   "cell_type": "markdown",
   "metadata": {},
   "source": [
    "- Create a list of 30 numbers and assign it to the variable `thirty`.\n",
    "- Select every other element."
   ]
  },
  {
   "cell_type": "code",
   "execution_count": 41,
   "metadata": {},
   "outputs": [
    {
     "name": "stdout",
     "output_type": "stream",
     "text": [
      "[1, 3, 5, 7, 9, 11, 13, 15, 17, 19, 21, 23, 25, 27, 29]\n"
     ]
    }
   ],
   "source": [
    "thirty = list(range(30))\n",
    "print(thirty [1::2])"
   ]
  },
  {
   "cell_type": "markdown",
   "metadata": {},
   "source": [
    "# 1.2 Lists and Matrices"
   ]
  },
  {
   "cell_type": "markdown",
   "metadata": {},
   "source": [
    "Matrices are two-dimensional arrays that help us do computations with data, of the same or different structure, and that can be thought of as rows and columns of a spreadsheet. Think of the computations of matrices as small pieces of operations on data in a spreadsheet. For example, the addition of all of the elements in column A and column B starting from row 1 and ending in row 15 of Excel.\n",
    "\n",
    "Matrices in plain Python can be created as lists of lists, which are often referred to as nested lists. For example:"
   ]
  },
  {
   "cell_type": "code",
   "execution_count": null,
   "metadata": {},
   "outputs": [],
   "source": [
    "A_matrix = [[3, 7, 15],\n",
    "            [8, 2, 19],\n",
    "            [10, 6, 1]]\n",
    "\n",
    "print(A_matrix)"
   ]
  },
  {
   "cell_type": "markdown",
   "metadata": {},
   "source": [
    "You can access the data in a matrix in a similar fashion as with lists of only one dimension, but you will need an additional bracket and numbers next to the first set of slicing brackets, e.g. `Matrix[1][2]`."
   ]
  },
  {
   "cell_type": "code",
   "execution_count": null,
   "metadata": {},
   "outputs": [],
   "source": [
    "A_matrix[1][2]"
   ]
  },
  {
   "cell_type": "markdown",
   "metadata": {},
   "source": [
    "In the example above, the first bracket is in charge of selecting a row, and the second will select a column. For example, to get the number `19` from the previous matrix, `[1]` in the first bracket selects the second row of the list, and `[2]` in the second bracket selects the third column.\n",
    "\n",
    "Let's now get the number 15 from our `A_matrix`."
   ]
  },
  {
   "cell_type": "code",
   "execution_count": null,
   "metadata": {},
   "outputs": [],
   "source": [
    "A_matrix[0][2]"
   ]
  },
  {
   "cell_type": "markdown",
   "metadata": {},
   "source": [
    "To change the element of a list, array, or matrix, you can add an equal sign to the right of the matrix with the sliced data and add the element you want to the right of it. Remember, lists are mutable data structures, this means we can change their content however and whenever we want."
   ]
  },
  {
   "cell_type": "code",
   "execution_count": null,
   "metadata": {},
   "outputs": [],
   "source": [
    "print(A_matrix[2][0])\n",
    "A_matrix[2][0] = 28\n",
    "print(A_matrix[2][0])"
   ]
  },
  {
   "cell_type": "markdown",
   "metadata": {},
   "source": [
    "You can also do calculations in only one array of a matrix, provided the array in a matrix is of the appropriate type.\n",
    "\n",
    "Let's add the first and third rows of our matrix."
   ]
  },
  {
   "cell_type": "code",
   "execution_count": null,
   "metadata": {},
   "outputs": [],
   "source": [
    "print(\"This will add the first row: %i\" % sum(A_matrix[0]))"
   ]
  },
  {
   "cell_type": "code",
   "execution_count": null,
   "metadata": {},
   "outputs": [],
   "source": [
    "print(\"This will add the third row: %i\" % sum(A_matrix[2]))"
   ]
  },
  {
   "cell_type": "code",
   "execution_count": null,
   "metadata": {},
   "outputs": [],
   "source": [
    "print(\"The columns are a bit trickier. Here is the third column: %i\" % (A_matrix[0][2] + A_matrix[1][2] + A_matrix[2][2]))"
   ]
  },
  {
   "cell_type": "markdown",
   "metadata": {},
   "source": [
    "When working with data in a matrix, we will most often than not be using the packages pandas or NumPy, the latter being the next topic in this lesson."
   ]
  },
  {
   "cell_type": "markdown",
   "metadata": {},
   "source": [
    "## Exercise 4"
   ]
  },
  {
   "cell_type": "markdown",
   "metadata": {},
   "source": [
    "- Create a list of 50 numbers and assign it to the variable `fifty`.\n",
    "- Select every odd number in the list."
   ]
  },
  {
   "cell_type": "code",
   "execution_count": null,
   "metadata": {},
   "outputs": [],
   "source": []
  },
  {
   "cell_type": "code",
   "execution_count": null,
   "metadata": {},
   "outputs": [],
   "source": []
  },
  {
   "cell_type": "code",
   "execution_count": null,
   "metadata": {},
   "outputs": [],
   "source": []
  },
  {
   "cell_type": "markdown",
   "metadata": {},
   "source": [
    "## Exercise 5"
   ]
  },
  {
   "cell_type": "markdown",
   "metadata": {},
   "source": [
    "Use a for loop to print all of the elements in your `fifty` list. Add a nice string-printing format to it with your printing method of choice."
   ]
  },
  {
   "cell_type": "code",
   "execution_count": null,
   "metadata": {},
   "outputs": [],
   "source": []
  },
  {
   "cell_type": "markdown",
   "metadata": {},
   "source": [
    "## Exercise 6"
   ]
  },
  {
   "cell_type": "markdown",
   "metadata": {},
   "source": [
    "Use a for loop and iterate over your `fifty` list while subtracting 5, raising to the power of 2, adding 10, and diving by 3, each element of the list."
   ]
  },
  {
   "cell_type": "code",
   "execution_count": null,
   "metadata": {},
   "outputs": [],
   "source": []
  },
  {
   "cell_type": "code",
   "execution_count": null,
   "metadata": {},
   "outputs": [],
   "source": []
  },
  {
   "cell_type": "markdown",
   "metadata": {},
   "source": [
    "# Dictionaries\n",
    "\n",
    "Here are some of the most useful methods we can use with dictionaries:\n",
    "\n",
    "- `.keys()` --> allows us to access all of the first instance keys in our dictionary.\n",
    "- `.values()` --> allows us to access the first layer of values in our dictionary.\n",
    "- `.items()` --> gives us the ability to iterate over keys and values in isolation.\n",
    "- `.get()` --> this method allows us to get a key, if it exists, or pass a default value if it doesn't\n",
    "- `.update()` --> this method gives us the ability to mutate the dictionary by adding a new one to the old one."
   ]
  },
  {
   "cell_type": "code",
   "execution_count": 1,
   "metadata": {},
   "outputs": [
    {
     "data": {
      "text/plain": [
       "{'team_sports': ['baseball', 'basketball', 'soccer'],\n",
       " 'solo_sports': ['tennis', 'golf', 'ping pong'],\n",
       " 'motorsports': ['formula 1', 'NASCAR', 'formula e']}"
      ]
     },
     "execution_count": 1,
     "metadata": {},
     "output_type": "execute_result"
    }
   ],
   "source": [
    "sports_dictionary = {\n",
    "    'team_sports': ['baseball', 'basketball', 'soccer'],\n",
    "    'solo_sports': ['tennis', 'golf', 'ping pong'],\n",
    "    'motorsports': ['formula 1', 'NASCAR', 'formula e']\n",
    "}\n",
    "sports_dictionary"
   ]
  },
  {
   "cell_type": "code",
   "execution_count": 2,
   "metadata": {},
   "outputs": [
    {
     "name": "stdout",
     "output_type": "stream",
     "text": [
      "Python 3.8.6\n"
     ]
    }
   ],
   "source": [
    "!python3 --version"
   ]
  },
  {
   "cell_type": "code",
   "execution_count": 3,
   "metadata": {},
   "outputs": [
    {
     "data": {
      "text/plain": [
       "dict_keys(['team_sports', 'solo_sports', 'motorsports'])"
      ]
     },
     "execution_count": 3,
     "metadata": {},
     "output_type": "execute_result"
    }
   ],
   "source": [
    "sports_dictionary.keys() # only the keys are displayed"
   ]
  },
  {
   "cell_type": "code",
   "execution_count": 11,
   "metadata": {},
   "outputs": [
    {
     "name": "stdout",
     "output_type": "stream",
     "text": [
      "['baseball', 'basketball', 'soccer']\n"
     ]
    }
   ],
   "source": [
    "for temp_key in sports_dictionary.keys():\n",
    "    if 'team' in temp_key:\n",
    "        print(sports_dictionary[temp_key])"
   ]
  },
  {
   "cell_type": "code",
   "execution_count": 12,
   "metadata": {},
   "outputs": [
    {
     "name": "stdout",
     "output_type": "stream",
     "text": [
      "The team_sports is not a solo sport\n",
      "['tennis', 'golf', 'ping pong']\n",
      "The motorsports is not a solo sport\n"
     ]
    }
   ],
   "source": [
    "for temp_key in sports_dictionary.keys():\n",
    "    if 'solo' in temp_key:\n",
    "        print(sports_dictionary[temp_key])\n",
    "    else:\n",
    "        print(f\"The {temp_key} is not a solo sport\")"
   ]
  },
  {
   "cell_type": "code",
   "execution_count": 13,
   "metadata": {},
   "outputs": [
    {
     "data": {
      "text/plain": [
       "dict_values([['baseball', 'basketball', 'soccer'], ['tennis', 'golf', 'ping pong'], ['formula 1', 'NASCAR', 'formula e']])"
      ]
     },
     "execution_count": 13,
     "metadata": {},
     "output_type": "execute_result"
    }
   ],
   "source": [
    "sports_dictionary.values() # only the values are displayed"
   ]
  },
  {
   "cell_type": "code",
   "execution_count": 14,
   "metadata": {},
   "outputs": [
    {
     "data": {
      "text/plain": [
       "dict_items([('team_sports', ['baseball', 'basketball', 'soccer']), ('solo_sports', ['tennis', 'golf', 'ping pong']), ('motorsports', ['formula 1', 'NASCAR', 'formula e'])])"
      ]
     },
     "execution_count": 14,
     "metadata": {},
     "output_type": "execute_result"
    }
   ],
   "source": [
    "sports_dictionary.items() # keys and values are displayed as tuples inside a list"
   ]
  },
  {
   "cell_type": "code",
   "execution_count": 18,
   "metadata": {},
   "outputs": [
    {
     "name": "stdout",
     "output_type": "stream",
     "text": [
      "team_sports and their values ['baseball', 'basketball', 'soccer']\n",
      "solo_sports and their values ['tennis', 'golf', 'ping pong']\n",
      "motorsports and their values ['formula 1', 'NASCAR', 'formula e']\n"
     ]
    }
   ],
   "source": [
    "for key, values in sports_dictionary.items():\n",
    "    print(key, 'and their values', values)\n",
    "    "
   ]
  },
  {
   "cell_type": "code",
   "execution_count": 15,
   "metadata": {},
   "outputs": [
    {
     "data": {
      "text/plain": [
       "['formula 1', 'NASCAR', 'formula e']"
      ]
     },
     "execution_count": 15,
     "metadata": {},
     "output_type": "execute_result"
    }
   ],
   "source": [
    "sports_dictionary['motorsports']"
   ]
  },
  {
   "cell_type": "code",
   "execution_count": 19,
   "metadata": {},
   "outputs": [
    {
     "data": {
      "text/plain": [
       "['formula 1', 'NASCAR', 'formula e']"
      ]
     },
     "execution_count": 19,
     "metadata": {},
     "output_type": "execute_result"
    }
   ],
   "source": [
    "sports_dictionary.get('motorsports', 'not found') # this works very well"
   ]
  },
  {
   "cell_type": "code",
   "execution_count": 20,
   "metadata": {},
   "outputs": [
    {
     "data": {
      "text/plain": [
       "'not found'"
      ]
     },
     "execution_count": 20,
     "metadata": {},
     "output_type": "execute_result"
    }
   ],
   "source": [
    "sports_dictionary.get('watersports', 'not found') # this doesn't work"
   ]
  },
  {
   "cell_type": "code",
   "execution_count": 22,
   "metadata": {},
   "outputs": [],
   "source": [
    "watersports_dict = {'watersports': ['rowing', 'swimming', 'water polo']}"
   ]
  },
  {
   "cell_type": "code",
   "execution_count": 23,
   "metadata": {},
   "outputs": [
    {
     "data": {
      "text/plain": [
       "{'team_sports': ['baseball', 'basketball', 'soccer'],\n",
       " 'solo_sports': ['tennis', 'golf', 'ping pong'],\n",
       " 'motorsports': ['formula 1', 'NASCAR', 'formula e'],\n",
       " 'watersports': ['rowing', 'swimming', 'water polo']}"
      ]
     },
     "execution_count": 23,
     "metadata": {},
     "output_type": "execute_result"
    }
   ],
   "source": [
    "sports_dictionary.update(watersports_dict) # this works very well\n",
    "sports_dictionary"
   ]
  },
  {
   "cell_type": "markdown",
   "metadata": {},
   "source": [
    "# 4. More on Control Flow"
   ]
  },
  {
   "cell_type": "markdown",
   "metadata": {},
   "source": [
    "In the last lesson we learned the very basics of the three most essential part of programming that allow us to deal with conditions, repetitions, and afficiency/fluency with our code. In this section we will cover the same three topics again with an extra hint of complexity and a variation of for loops unique to Python, list comprehensions.\n",
    "\n",
    "1. Conditional statements\n",
    "2. Functions\n",
    "3. Loops\n",
    "4. List Comprehensions"
   ]
  },
  {
   "cell_type": "markdown",
   "metadata": {},
   "source": [
    "# 4.1 Conditional Statements"
   ]
  },
  {
   "cell_type": "markdown",
   "metadata": {},
   "source": [
    "Conditional statements evaluate arguments and search for the truth for us (very poetic, yes). Unless a statement we pass after the first if evaluates to `False`, has a `0`, or is an explicit `False` (there are a few other exceptions and we will see them in a second), everything after the `if` will always try to evaluate to `True`. Every `if` statement initiation in python needs to end with a `:` before proceeding to the next line where the statement will do something.\n",
    "\n",
    "```python\n",
    "if something_true:\n",
    "```\n",
    "\n",
    "The next part is the proceedure we will like to see happening.\n",
    "\n",
    "```python\n",
    "if something_true:\n",
    "    print(\"do something cool\")\n",
    "```"
   ]
  },
  {
   "cell_type": "code",
   "execution_count": 24,
   "metadata": {},
   "outputs": [
    {
     "name": "stdout",
     "output_type": "stream",
     "text": [
      "this works because it is True\n"
     ]
    }
   ],
   "source": [
    "if 2 + 2 == 4:\n",
    "    print(\"this works because it is True\")"
   ]
  },
  {
   "cell_type": "markdown",
   "metadata": {},
   "source": [
    "The defeult action if our statement ends up being `False` is to do nothing. We can provide our statement with a default action of our choosing though by using an `else` clause."
   ]
  },
  {
   "cell_type": "code",
   "execution_count": 25,
   "metadata": {},
   "outputs": [
    {
     "name": "stdout",
     "output_type": "stream",
     "text": [
      "this does not work because it is False\n"
     ]
    }
   ],
   "source": [
    "if 2 + 2 == 5:\n",
    "    print(\"this works because it is True\")\n",
    "else:\n",
    "    print(\"this does not work because it is False\")"
   ]
  },
  {
   "cell_type": "markdown",
   "metadata": {},
   "source": [
    "The in-between arguments of our wanted condition and our default action are additional parameters that can help us control the flow of our statements. They are a combinations of the `if` and `else` clauses but differ in that they cannot start like the `if`.\n",
    "\n",
    "\n",
    "```python\n",
    "if something_true:\n",
    "    print(\"do something cool\")\n",
    "elif could_be_this:\n",
    "    print(\"one possibility\")\n",
    "elif or_this:\n",
    "    print(\"another possibility\")\n",
    "else:\n",
    "    print(\"false alarm\")\n",
    "```"
   ]
  },
  {
   "cell_type": "code",
   "execution_count": 26,
   "metadata": {},
   "outputs": [],
   "source": [
    "months = ['January', 'March', 'May', 'July']\n",
    "\n",
    "months_count = 0"
   ]
  },
  {
   "cell_type": "code",
   "execution_count": 27,
   "metadata": {},
   "outputs": [
    {
     "name": "stdout",
     "output_type": "stream",
     "text": [
      "I've got this month covered too\n"
     ]
    }
   ],
   "source": [
    "if 'December' in months:\n",
    "    print(\"I've got this month covered\")\n",
    "elif 'November' in months:\n",
    "    print(\"I've got this month covered too\")\n",
    "    months_count += 1\n",
    "elif 'April' in months:\n",
    "    print(\"I've got this month covered too\")\n",
    "    months_count += 1\n",
    "elif 'June' in months:\n",
    "    print(\"I've got this month covered too\")\n",
    "    months_count += 1\n",
    "elif 'October' in months:\n",
    "    print(\"I've got this month covered too\")\n",
    "    months_count += 1\n",
    "elif 'March' in months:\n",
    "    print(\"I've got this month covered too\")\n",
    "    months_count += 1\n",
    "else:\n",
    "    print(\"Sorry I could not find anything\")"
   ]
  },
  {
   "cell_type": "code",
   "execution_count": 29,
   "metadata": {},
   "outputs": [
    {
     "data": {
      "text/plain": [
       "1"
      ]
     },
     "execution_count": 29,
     "metadata": {},
     "output_type": "execute_result"
    }
   ],
   "source": [
    "months_count"
   ]
  },
  {
   "cell_type": "markdown",
   "metadata": {},
   "source": [
    "Things that evaluate to False.\n",
    "\n",
    "- 0\n",
    "- None\n",
    "- []\n",
    "- {}"
   ]
  },
  {
   "cell_type": "code",
   "execution_count": 40,
   "metadata": {},
   "outputs": [
    {
     "name": "stdout",
     "output_type": "stream",
     "text": [
      "We rich\n"
     ]
    }
   ],
   "source": [
    "revenue = 10_000_000\n",
    "\n",
    "if revenue < 10_000_000:\n",
    "    print(\"We poor\")\n",
    "else:\n",
    "    print(\"We rich\")"
   ]
  },
  {
   "cell_type": "markdown",
   "metadata": {},
   "source": [
    "# 4.2 Functions"
   ]
  },
  {
   "cell_type": "markdown",
   "metadata": {},
   "source": [
    "Functions help us avoid repetitions by wrapping our code into a regular Python function like the `print()` but this time of our making.\n",
    "\n",
    "Functions:  \n",
    "- Need to be defined with\n",
    "```python \n",
    "def\n",
    "```\n",
    "- Can have no arguments and still work \n",
    "```python\n",
    "def function():\n",
    "    pass\n",
    "```\n",
    "- Can also have a plethora of arguments and still work\n",
    "```python\n",
    "def function(one, two, three, many, more):\n",
    "    pass\n",
    "```\n",
    "- Need parentheses, most of the times, to work after they have been defined\n",
    "- `pass` means the function will do nothing\n",
    "\n",
    "\n",
    "Let's go over more examples."
   ]
  },
  {
   "cell_type": "code",
   "execution_count": 44,
   "metadata": {},
   "outputs": [],
   "source": [
    "# Let's define a function that takes in a number and returns that number to the cube power\n",
    "\n",
    "def cube_power(number):\n",
    "    return number ** 3"
   ]
  },
  {
   "cell_type": "code",
   "execution_count": 45,
   "metadata": {},
   "outputs": [
    {
     "name": "stdout",
     "output_type": "stream",
     "text": [
      "125\n"
     ]
    }
   ],
   "source": [
    "print(cube_power(5))"
   ]
  },
  {
   "cell_type": "code",
   "execution_count": 46,
   "metadata": {},
   "outputs": [],
   "source": [
    "# functions can have default values that only changed when needed\n",
    "\n",
    "def person_age_finder(age, name=\"Person\"):\n",
    "    print(f\"Hi {name}, you are {age} years old!\")"
   ]
  },
  {
   "cell_type": "code",
   "execution_count": 47,
   "metadata": {},
   "outputs": [
    {
     "name": "stdout",
     "output_type": "stream",
     "text": [
      "Hi Person, you are 28 years old!\n"
     ]
    }
   ],
   "source": [
    "person_age_finder(28)"
   ]
  },
  {
   "cell_type": "code",
   "execution_count": 48,
   "metadata": {},
   "outputs": [
    {
     "name": "stdout",
     "output_type": "stream",
     "text": [
      "Hi Ramon, you are 28 years old!\n"
     ]
    }
   ],
   "source": [
    "person_age_finder(28, \"Ramon\")"
   ]
  },
  {
   "cell_type": "code",
   "execution_count": 51,
   "metadata": {},
   "outputs": [],
   "source": [
    "def college_major(student, major=\"undecided\", university=\"unknown\"):\n",
    "    print(\"{} is studying {}, at {} university\".format(student, major, university))"
   ]
  },
  {
   "cell_type": "code",
   "execution_count": 53,
   "metadata": {},
   "outputs": [
    {
     "name": "stdout",
     "output_type": "stream",
     "text": [
      "Ramon is studying economics, at UMKC university\n"
     ]
    }
   ],
   "source": [
    "college_major(major=\"economics\", student=\"Ramon\", university=\"UMKC\")"
   ]
  },
  {
   "cell_type": "markdown",
   "metadata": {},
   "source": [
    "# 4.3 Loops"
   ]
  },
  {
   "cell_type": "markdown",
   "metadata": {},
   "source": [
    "Loops are the masters of repetition. If we need to do a task multiple times, chances are that loops will help us do that in many different ways.\n",
    "\n",
    "Loops:\n",
    "\n",
    "- begin with a `for` or `while` constructor, although so far we've only focused on `for`\n",
    "- use after the `for` a next argument which is a random temporary `variable` that it will use to iterate over the object we want to iterate over\n",
    "- have an `in` argument use to point the temporary variable to our list of things or objects\n",
    "- the object we iterate over can be a list, a string, a dictionary, a set, a tuple, an iterable, and a few other objects in Python\n",
    "- the construction of the loop ends with `:`\n",
    "- and what follows are the instructions we will like to see repeatedly"
   ]
  },
  {
   "cell_type": "code",
   "execution_count": 54,
   "metadata": {},
   "outputs": [],
   "source": [
    "list_names = ['candy', 'loren', 'xavier', 'jackson', 'tyrell', 'sam']"
   ]
  },
  {
   "cell_type": "code",
   "execution_count": 55,
   "metadata": {},
   "outputs": [
    {
     "name": "stdout",
     "output_type": "stream",
     "text": [
      "Hi your name is candy\n",
      "Hi your name is loren\n",
      "Hi your name is xavier\n",
      "Hi your name is jackson\n",
      "Hi your name is tyrell\n",
      "Hi your name is sam\n"
     ]
    }
   ],
   "source": [
    "for name in list_names:\n",
    "    print(f\"Hi your name is {name}\")"
   ]
  },
  {
   "cell_type": "code",
   "execution_count": 56,
   "metadata": {},
   "outputs": [],
   "source": [
    "ages = [25, 35, 32, 21, 19, 26]"
   ]
  },
  {
   "cell_type": "code",
   "execution_count": 57,
   "metadata": {},
   "outputs": [
    {
     "name": "stdout",
     "output_type": "stream",
     "text": [
      "Hi your name is candy and you are 25 years old!\n",
      "Hi your name is loren and you are 35 years old!\n",
      "Hi your name is xavier and you are 32 years old!\n",
      "Hi your name is jackson and you are 21 years old!\n",
      "Hi your name is tyrell and you are 19 years old!\n",
      "Hi your name is sam and you are 26 years old!\n"
     ]
    }
   ],
   "source": [
    "for age, name in zip(ages, list_names):\n",
    "    print(f\"Hi your name is {name} and you are {age} years old!\")"
   ]
  },
  {
   "cell_type": "markdown",
   "metadata": {},
   "source": [
    "We can also combine functions and loops."
   ]
  },
  {
   "cell_type": "code",
   "execution_count": 58,
   "metadata": {},
   "outputs": [],
   "source": [
    "def greetings(name, age):\n",
    "    print(f\"Hi your name is {name} and you are {age} years old!\")"
   ]
  },
  {
   "cell_type": "code",
   "execution_count": 59,
   "metadata": {},
   "outputs": [
    {
     "name": "stdout",
     "output_type": "stream",
     "text": [
      "Hi your name is candy and you are 25 years old!\n",
      "Hi your name is loren and you are 35 years old!\n",
      "Hi your name is xavier and you are 32 years old!\n",
      "Hi your name is jackson and you are 21 years old!\n",
      "Hi your name is tyrell and you are 19 years old!\n",
      "Hi your name is sam and you are 26 years old!\n"
     ]
    }
   ],
   "source": [
    "for age, name in zip(ages, list_names):\n",
    "    greetings(name=name, age=age)"
   ]
  },
  {
   "cell_type": "markdown",
   "metadata": {},
   "source": [
    "# 4.2 List Comprehensions"
   ]
  },
  {
   "cell_type": "markdown",
   "metadata": {},
   "source": [
    "List comprehensions are loops cousins. They can do almost everything loops can do but their final output is always a list. They prove especially useful when we need a fast loop for prototyping and we don't want to go through construncting a loop from scratch.\n",
    "\n",
    "The main difference between list comprehensions and regular loops is that the action happens first. For example, if you want to add the number 1 to a range of integers, we would have `number + 1` at the begining of the list comprehension. If we wanted to make a list with all of the letters of a sentence in lower case, we would apply that `.lower()` function to our temporary variable at the start.\n",
    "\n",
    "The other thing you need to keep in mind is that list comprehensions need to be wrapped around brackets.\n",
    "\n",
    "```python\n",
    "[number + 1 for number in range(10)] # first example\n",
    "[letter.lower() for letter in \"HeLLO LISTS ComPREHENSIONS\"] # second example\n",
    "```"
   ]
  },
  {
   "cell_type": "code",
   "execution_count": 60,
   "metadata": {},
   "outputs": [
    {
     "data": {
      "text/plain": [
       "[0, 2, 4, 6, 8, 10, 12, 14, 16, 18, 20, 22, 24, 26, 28]"
      ]
     },
     "execution_count": 60,
     "metadata": {},
     "output_type": "execute_result"
    }
   ],
   "source": [
    "list_nums = [number * 2 for number in range(15)]\n",
    "list_nums"
   ]
  },
  {
   "cell_type": "code",
   "execution_count": 61,
   "metadata": {},
   "outputs": [
    {
     "name": "stdout",
     "output_type": "stream",
     "text": [
      "0\n",
      "2\n",
      "4\n",
      "6\n",
      "8\n",
      "10\n",
      "12\n",
      "14\n",
      "16\n",
      "18\n",
      "20\n",
      "22\n",
      "24\n",
      "26\n",
      "28\n"
     ]
    }
   ],
   "source": [
    "for number in range(15):\n",
    "    print(number *2)"
   ]
  },
  {
   "cell_type": "code",
   "execution_count": 6,
   "metadata": {},
   "outputs": [
    {
     "data": {
      "text/plain": [
       "[0, 2, 4, 6, 8, 10, 12, 14, 16, 18, 20, 22, 24, 26, 28]"
      ]
     },
     "execution_count": 6,
     "metadata": {},
     "output_type": "execute_result"
    }
   ],
   "source": [
    "list_nums = [number * 2 for number in range(15)]\n",
    "list_nums"
   ]
  },
  {
   "cell_type": "code",
   "execution_count": 7,
   "metadata": {},
   "outputs": [
    {
     "data": {
      "text/plain": [
       "['t',\n",
       " 'h',\n",
       " 'i',\n",
       " 's',\n",
       " ' ',\n",
       " 'w',\n",
       " 'a',\n",
       " 's',\n",
       " ' ',\n",
       " 'a',\n",
       " 'n',\n",
       " ' ',\n",
       " 'u',\n",
       " 'p',\n",
       " 'p',\n",
       " 'e',\n",
       " 'r',\n",
       " ' ',\n",
       " 's',\n",
       " 't',\n",
       " 'r',\n",
       " 'i',\n",
       " 'n',\n",
       " 'g']"
      ]
     },
     "execution_count": 7,
     "metadata": {},
     "output_type": "execute_result"
    }
   ],
   "source": [
    "list_letters = [a.lower() for a in \"THIS WAS AN UPPER STRING\"]\n",
    "list_letters"
   ]
  },
  {
   "cell_type": "code",
   "execution_count": null,
   "metadata": {},
   "outputs": [],
   "source": []
  },
  {
   "cell_type": "code",
   "execution_count": null,
   "metadata": {},
   "outputs": [],
   "source": [
    "better_list_letters = ''.join([a.lower() for a in \"THIS WAS AN UPPER STRING\"])"
   ]
  },
  {
   "cell_type": "code",
   "execution_count": null,
   "metadata": {},
   "outputs": [],
   "source": [
    "print(type([a.lower() for a in \"THIS IS A STRING\"]))"
   ]
  },
  {
   "cell_type": "markdown",
   "metadata": {},
   "source": [
    "# Awesome Work! Now to Numerical Computing\n",
    "\n",
    "![hi5](https://media.giphy.com/media/3BlN2bxcw0l5S/giphy.gif)"
   ]
  }
 ],
 "metadata": {
  "kernelspec": {
   "display_name": "Python 3",
   "language": "python",
   "name": "python3"
  },
  "language_info": {
   "codemirror_mode": {
    "name": "ipython",
    "version": 3
   },
   "file_extension": ".py",
   "mimetype": "text/x-python",
   "name": "python",
   "nbconvert_exporter": "python",
   "pygments_lexer": "ipython3",
   "version": "3.8.3"
  },
  "nteract": {
   "version": "0.22.4"
  }
 },
 "nbformat": 4,
 "nbformat_minor": 4
}
