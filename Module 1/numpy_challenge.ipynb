{
 "cells": [
  {
   "cell_type": "markdown",
   "metadata": {},
   "source": [
    "# Week 2 - Mini Assessment"
   ]
  },
  {
   "cell_type": "markdown",
   "metadata": {},
   "source": [
    "Welcome to your mini assessment for week two. A set of exercises using NumPy to make sure you get accustomed to one of the most widely used libraries in the data analytics/science community.\n",
    "\n",
    "Once you are done with the notebook, you should try to put it on GitHub under your respective folder for everything related to module 2. In addition let your instructor know that you have submitted this mini-assessment."
   ]
  },
  {
   "cell_type": "markdown",
   "metadata": {},
   "source": [
    "1. Import the numpy package and check its version."
   ]
  },
  {
   "cell_type": "code",
   "execution_count": 1,
   "metadata": {},
   "outputs": [],
   "source": []
  },
  {
   "cell_type": "code",
   "execution_count": null,
   "metadata": {},
   "outputs": [],
   "source": []
  },
  {
   "cell_type": "markdown",
   "metadata": {},
   "source": [
    "2. Create an numpy range of values from 0 to 49 and name it `mynums`. Print its output."
   ]
  },
  {
   "cell_type": "code",
   "execution_count": null,
   "metadata": {},
   "outputs": [],
   "source": []
  },
  {
   "cell_type": "code",
   "execution_count": 2,
   "metadata": {},
   "outputs": [
    {
     "data": {
      "text/plain": [
       "array([ 0,  1,  2,  3,  4,  5,  6,  7,  8,  9, 10, 11, 12, 13, 14, 15, 16,\n",
       "       17, 18, 19, 20, 21, 22, 23, 24, 25, 26, 27, 28, 29, 30, 31, 32, 33,\n",
       "       34, 35, 36, 37, 38, 39, 40, 41, 42, 43, 44, 45, 46, 47, 48, 49])"
      ]
     },
     "execution_count": 2,
     "metadata": {},
     "output_type": "execute_result"
    }
   ],
   "source": []
  },
  {
   "cell_type": "markdown",
   "metadata": {},
   "source": [
    "3. Reshape the array you created in step 2 into a matrix with the shape below and assign a copy of it to a variable called `my_matrix`. Print the matrix."
   ]
  },
  {
   "cell_type": "code",
   "execution_count": null,
   "metadata": {},
   "outputs": [],
   "source": []
  },
  {
   "cell_type": "code",
   "execution_count": 3,
   "metadata": {},
   "outputs": [
    {
     "data": {
      "text/plain": [
       "array([[ 0,  1,  2,  3,  4,  5,  6,  7,  8,  9],\n",
       "       [10, 11, 12, 13, 14, 15, 16, 17, 18, 19],\n",
       "       [20, 21, 22, 23, 24, 25, 26, 27, 28, 29],\n",
       "       [30, 31, 32, 33, 34, 35, 36, 37, 38, 39],\n",
       "       [40, 41, 42, 43, 44, 45, 46, 47, 48, 49]])"
      ]
     },
     "execution_count": 3,
     "metadata": {},
     "output_type": "execute_result"
    }
   ],
   "source": []
  },
  {
   "cell_type": "markdown",
   "metadata": {},
   "source": [
    "4. Create a linearly-spaced array of size 100 between the numbers 20 to 100, assign it to the variable, `num_increases` and print it."
   ]
  },
  {
   "cell_type": "code",
   "execution_count": null,
   "metadata": {},
   "outputs": [],
   "source": []
  },
  {
   "cell_type": "code",
   "execution_count": 6,
   "metadata": {
    "scrolled": true
   },
   "outputs": [
    {
     "data": {
      "text/plain": [
       "array([ 20.        ,  20.80808081,  21.61616162,  22.42424242,\n",
       "        23.23232323,  24.04040404,  24.84848485,  25.65656566,\n",
       "        26.46464646,  27.27272727,  28.08080808,  28.88888889,\n",
       "        29.6969697 ,  30.50505051,  31.31313131,  32.12121212,\n",
       "        32.92929293,  33.73737374,  34.54545455,  35.35353535,\n",
       "        36.16161616,  36.96969697,  37.77777778,  38.58585859,\n",
       "        39.39393939,  40.2020202 ,  41.01010101,  41.81818182,\n",
       "        42.62626263,  43.43434343,  44.24242424,  45.05050505,\n",
       "        45.85858586,  46.66666667,  47.47474747,  48.28282828,\n",
       "        49.09090909,  49.8989899 ,  50.70707071,  51.51515152,\n",
       "        52.32323232,  53.13131313,  53.93939394,  54.74747475,\n",
       "        55.55555556,  56.36363636,  57.17171717,  57.97979798,\n",
       "        58.78787879,  59.5959596 ,  60.4040404 ,  61.21212121,\n",
       "        62.02020202,  62.82828283,  63.63636364,  64.44444444,\n",
       "        65.25252525,  66.06060606,  66.86868687,  67.67676768,\n",
       "        68.48484848,  69.29292929,  70.1010101 ,  70.90909091,\n",
       "        71.71717172,  72.52525253,  73.33333333,  74.14141414,\n",
       "        74.94949495,  75.75757576,  76.56565657,  77.37373737,\n",
       "        78.18181818,  78.98989899,  79.7979798 ,  80.60606061,\n",
       "        81.41414141,  82.22222222,  83.03030303,  83.83838384,\n",
       "        84.64646465,  85.45454545,  86.26262626,  87.07070707,\n",
       "        87.87878788,  88.68686869,  89.49494949,  90.3030303 ,\n",
       "        91.11111111,  91.91919192,  92.72727273,  93.53535354,\n",
       "        94.34343434,  95.15151515,  95.95959596,  96.76767677,\n",
       "        97.57575758,  98.38383838,  99.19191919, 100.        ])"
      ]
     },
     "execution_count": 6,
     "metadata": {},
     "output_type": "execute_result"
    }
   ],
   "source": []
  },
  {
   "cell_type": "markdown",
   "metadata": {},
   "source": [
    "5. Create an numpy array with 20 zeros, assign it to the variable `zeroes`."
   ]
  },
  {
   "cell_type": "code",
   "execution_count": null,
   "metadata": {},
   "outputs": [],
   "source": []
  },
  {
   "cell_type": "code",
   "execution_count": 14,
   "metadata": {},
   "outputs": [
    {
     "data": {
      "text/plain": [
       "array([0., 0., 0., 0., 0., 0., 0., 0., 0., 0., 0., 0., 0., 0., 0., 0., 0.,\n",
       "       0., 0., 0.])"
      ]
     },
     "execution_count": 14,
     "metadata": {},
     "output_type": "execute_result"
    }
   ],
   "source": []
  },
  {
   "cell_type": "markdown",
   "metadata": {},
   "source": [
    "6. Create a two dimensional array of size 7 by 8 filled with 1s and do the following:\n",
    "- mulptiply the first rows by 2\n",
    "- add 3, and raise to the power of two the odd columns starting from the beginning\n",
    "- subtract 10 and multiply by 15 the elements in the even rows and odd columns"
   ]
  },
  {
   "cell_type": "code",
   "execution_count": null,
   "metadata": {},
   "outputs": [],
   "source": []
  },
  {
   "cell_type": "code",
   "execution_count": 15,
   "metadata": {},
   "outputs": [
    {
     "data": {
      "text/plain": [
       "array([[1., 1., 1., 1., 1., 1., 1., 1.],\n",
       "       [1., 1., 1., 1., 1., 1., 1., 1.],\n",
       "       [1., 1., 1., 1., 1., 1., 1., 1.],\n",
       "       [1., 1., 1., 1., 1., 1., 1., 1.],\n",
       "       [1., 1., 1., 1., 1., 1., 1., 1.],\n",
       "       [1., 1., 1., 1., 1., 1., 1., 1.],\n",
       "       [1., 1., 1., 1., 1., 1., 1., 1.]])"
      ]
     },
     "execution_count": 15,
     "metadata": {},
     "output_type": "execute_result"
    }
   ],
   "source": []
  },
  {
   "cell_type": "code",
   "execution_count": 16,
   "metadata": {},
   "outputs": [
    {
     "data": {
      "text/plain": [
       "array([2., 2., 2., 2., 2., 2., 2., 2.])"
      ]
     },
     "execution_count": 16,
     "metadata": {},
     "output_type": "execute_result"
    }
   ],
   "source": []
  },
  {
   "cell_type": "code",
   "execution_count": 18,
   "metadata": {},
   "outputs": [
    {
     "data": {
      "text/plain": [
       "array([[16., 16., 16., 16.],\n",
       "       [16., 16., 16., 16.],\n",
       "       [16., 16., 16., 16.],\n",
       "       [16., 16., 16., 16.],\n",
       "       [16., 16., 16., 16.],\n",
       "       [16., 16., 16., 16.],\n",
       "       [16., 16., 16., 16.]])"
      ]
     },
     "execution_count": 18,
     "metadata": {},
     "output_type": "execute_result"
    }
   ],
   "source": []
  },
  {
   "cell_type": "code",
   "execution_count": 19,
   "metadata": {},
   "outputs": [
    {
     "data": {
      "text/plain": [
       "array([[-135., -135., -135., -135.],\n",
       "       [-135., -135., -135., -135.],\n",
       "       [-135., -135., -135., -135.],\n",
       "       [-135., -135., -135., -135.]])"
      ]
     },
     "execution_count": 19,
     "metadata": {},
     "output_type": "execute_result"
    }
   ],
   "source": []
  },
  {
   "cell_type": "markdown",
   "metadata": {},
   "source": [
    "7. Create a numpy array starting at 20 and ending at 40 with 10 equally spaced values. Print your result."
   ]
  },
  {
   "cell_type": "code",
   "execution_count": null,
   "metadata": {},
   "outputs": [],
   "source": []
  },
  {
   "cell_type": "code",
   "execution_count": 23,
   "metadata": {},
   "outputs": [
    {
     "data": {
      "text/plain": [
       "array([20.        , 22.22222222, 24.44444444, 26.66666667, 28.88888889,\n",
       "       31.11111111, 33.33333333, 35.55555556, 37.77777778, 40.        ])"
      ]
     },
     "execution_count": 23,
     "metadata": {},
     "output_type": "execute_result"
    }
   ],
   "source": []
  },
  {
   "cell_type": "markdown",
   "metadata": {},
   "source": [
    "8. Create a 9 by 9 matrix with random integers from 100 to 500 and use the dtype \"int32\"."
   ]
  },
  {
   "cell_type": "code",
   "execution_count": null,
   "metadata": {},
   "outputs": [],
   "source": []
  },
  {
   "cell_type": "code",
   "execution_count": 24,
   "metadata": {},
   "outputs": [
    {
     "data": {
      "text/plain": [
       "array([[318, 168, 216, 178, 198, 380, 149, 365, 350],\n",
       "       [225, 425, 491, 156, 301, 300, 245, 285, 273],\n",
       "       [214, 225, 449, 421, 256, 444, 376, 233, 482],\n",
       "       [344, 396, 280, 460, 386, 318, 131, 350, 490],\n",
       "       [415, 137, 330, 206, 288, 444, 399, 459, 476],\n",
       "       [244, 152, 375, 211, 116, 216, 397, 120, 201],\n",
       "       [213, 498, 498, 270, 182, 242, 357, 262, 396],\n",
       "       [387, 445, 266, 280, 354, 360, 356, 426, 286],\n",
       "       [210, 365, 118, 269, 101, 364, 320, 484, 298]], dtype=int32)"
      ]
     },
     "execution_count": 24,
     "metadata": {},
     "output_type": "execute_result"
    }
   ],
   "source": []
  },
  {
   "cell_type": "markdown",
   "metadata": {},
   "source": [
    "9. Create an empty array of 20 elements with shape 2 by 10, dtype 'float32' and add a different number to each row."
   ]
  },
  {
   "cell_type": "code",
   "execution_count": null,
   "metadata": {},
   "outputs": [],
   "source": []
  },
  {
   "cell_type": "code",
   "execution_count": 1,
   "metadata": {},
   "outputs": [
    {
     "data": {
      "text/plain": [
       "array([[-2.68156159e+154,  1.49457291e-154,  6.93271142e-310,\n",
       "         6.93271155e-310,  6.93271142e-310,  6.93271155e-310,\n",
       "         6.93271155e-310,  6.93271155e-310,  6.93271155e-310,\n",
       "         6.93271155e-310],\n",
       "       [ 6.93271155e-310,  6.93271155e-310,  6.93271142e-310,\n",
       "         6.93271155e-310,  6.93271142e-310,  6.93271155e-310,\n",
       "         1.49457291e-154, -2.68678346e+154,  6.01346953e-154,\n",
       "         1.39067116e-308]])"
      ]
     },
     "execution_count": 1,
     "metadata": {},
     "output_type": "execute_result"
    }
   ],
   "source": []
  },
  {
   "cell_type": "code",
   "execution_count": 25,
   "metadata": {},
   "outputs": [
    {
     "name": "stdout",
     "output_type": "stream",
     "text": [
      "[5. 5. 5. 5. 5. 5. 5. 5. 5. 5.]\n",
      "[-5. -5. -5. -5. -5. -5. -5. -5. -5. -5.]\n"
     ]
    }
   ],
   "source": []
  },
  {
   "cell_type": "markdown",
   "metadata": {},
   "source": [
    "10. Create an array with 15 random numbers between 100 and 200 and print the maximum value of the array."
   ]
  },
  {
   "cell_type": "code",
   "execution_count": null,
   "metadata": {},
   "outputs": [],
   "source": []
  },
  {
   "cell_type": "code",
   "execution_count": null,
   "metadata": {},
   "outputs": [],
   "source": []
  },
  {
   "cell_type": "markdown",
   "metadata": {},
   "source": [
    "11. Create an array with the following numbers [40, 41, 26, 14, 15, 47, 43, 33, 44, 22], and assign it to a variable\n",
    "- create a slice from the 5th to 10th element, and assign it to a variable\n",
    "- change the value of both arrays with any operation you'd like (add, subtract, multiply, etc.), and \n",
    "- then print all 3 (the first array and your next two variables)."
   ]
  },
  {
   "cell_type": "code",
   "execution_count": null,
   "metadata": {},
   "outputs": [],
   "source": []
  },
  {
   "cell_type": "code",
   "execution_count": null,
   "metadata": {},
   "outputs": [],
   "source": []
  },
  {
   "cell_type": "markdown",
   "metadata": {},
   "source": [
    "12. Create an array of 360 random numbers from -10 to 50 (to resemble the weather) and find the min, max, 25th percentile, 75 percentile, average, and the median."
   ]
  },
  {
   "cell_type": "code",
   "execution_count": null,
   "metadata": {},
   "outputs": [],
   "source": []
  },
  {
   "cell_type": "code",
   "execution_count": null,
   "metadata": {},
   "outputs": [],
   "source": []
  },
  {
   "cell_type": "markdown",
   "metadata": {},
   "source": [
    "13. Reshape the array you created in step 12 into a matrix of 300 by 12 and get the same values but only for the months this time."
   ]
  },
  {
   "cell_type": "code",
   "execution_count": null,
   "metadata": {},
   "outputs": [],
   "source": []
  },
  {
   "cell_type": "code",
   "execution_count": null,
   "metadata": {},
   "outputs": [],
   "source": []
  },
  {
   "cell_type": "markdown",
   "metadata": {},
   "source": [
    "14. Create a mask for your data, and filter out and print:\n",
    "- the average temperature of the days where the temperature was below 10\n",
    "- the average temperature of the days where the temperature was greater than 30"
   ]
  },
  {
   "cell_type": "code",
   "execution_count": null,
   "metadata": {},
   "outputs": [],
   "source": []
  },
  {
   "cell_type": "code",
   "execution_count": null,
   "metadata": {},
   "outputs": [],
   "source": []
  },
  {
   "cell_type": "markdown",
   "metadata": {},
   "source": [
    "15. Create a full 10 by 10 matrix with a number of your choosing and assign it to a variable. After printing that variables, unravel the matrix and assign the array to a new number."
   ]
  },
  {
   "cell_type": "code",
   "execution_count": null,
   "metadata": {},
   "outputs": [],
   "source": []
  },
  {
   "cell_type": "code",
   "execution_count": null,
   "metadata": {},
   "outputs": [],
   "source": []
  }
 ],
 "metadata": {
  "kernelspec": {
   "display_name": "Python 3",
   "language": "python",
   "name": "python3"
  },
  "language_info": {
   "codemirror_mode": {
    "name": "ipython",
    "version": 3
   },
   "file_extension": ".py",
   "mimetype": "text/x-python",
   "name": "python",
   "nbconvert_exporter": "python",
   "pygments_lexer": "ipython3",
   "version": "3.7.7"
  }
 },
 "nbformat": 4,
 "nbformat_minor": 4
}
