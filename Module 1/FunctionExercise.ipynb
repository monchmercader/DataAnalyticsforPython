{
 "cells": [
  {
   "cell_type": "code",
   "execution_count": 1,
   "metadata": {},
   "outputs": [],
   "source": [
    "import pandas as pd\n",
    "import numpy as np"
   ]
  },
  {
   "cell_type": "markdown",
   "metadata": {},
   "source": [
    "#### 1. Write a function `myvoidfunction` which will print the value `Inside a void function. I return nothing` when invoked. Invoke the function to see if it works as expected."
   ]
  },
  {
   "cell_type": "code",
   "execution_count": null,
   "metadata": {},
   "outputs": [],
   "source": []
  },
  {
   "cell_type": "markdown",
   "metadata": {},
   "source": [
    "Double-click __here__ for the solution.\n",
    "\n",
    "<!-- Solution:\n",
    "\n",
    "def myvoidfunction():\n",
    "    print(\"Inside a void function. I return nothing\")\n",
    "\n",
    "myvoidfunction()\n",
    "-->"
   ]
  },
  {
   "cell_type": "markdown",
   "metadata": {},
   "source": [
    "#### 2. Write a function `myGreetingFunction` which will return one of the greetings, \"Hello\",\"What's up\",\"Hi\",\"Good day mate\",\"Howdy\"  randomly when invoked. Invoke the function to see if it works as expected."
   ]
  },
  {
   "cell_type": "code",
   "execution_count": null,
   "metadata": {},
   "outputs": [],
   "source": []
  },
  {
   "cell_type": "markdown",
   "metadata": {},
   "source": [
    "Double-click __here__ for the solution.\n",
    "\n",
    "<!-- Solution:\n",
    "\n",
    "greetingsArr = [\"Hello\",\"What's up\",\"Hi\",\"Good day mate\",\"Howdy\"]\n",
    "def myGreetingFunction():\n",
    "    return greetingsArr[np.random.randint(0,5)]\n",
    "\n",
    "print(myGreetingFunction())\n",
    "\n",
    "-->"
   ]
  },
  {
   "cell_type": "markdown",
   "metadata": {},
   "source": [
    "#### 3. Change the function `myGreetingFunction` to take a name parameter. Return the greeting as in exercise 2, but with the name passed.  Invoke the function to see if it works as expected."
   ]
  },
  {
   "cell_type": "code",
   "execution_count": null,
   "metadata": {},
   "outputs": [],
   "source": []
  },
  {
   "cell_type": "markdown",
   "metadata": {},
   "source": [
    "Double-click __here__ for the solution.\n",
    "\n",
    "<!-- Solution:\n",
    "\n",
    "greetingsArr = [\"Hello\",\"What's up\",\"Hi\",\"Good day mate\",\"Howdy\"]\n",
    "def myGreetingFunction(name):\n",
    "    return greetingsArr[np.random.randint(0,5)]+\" \"+name\n",
    "\n",
    "name = input(\"What's your name? \")\n",
    "print(myGreetingFunction(name))\n",
    "\n",
    "-->"
   ]
  },
  {
   "cell_type": "markdown",
   "metadata": {},
   "source": [
    "#### 4. Write a function `myRoot` which will take two number inputs, num1 and root_num(which defaults to 2, meaning square root) and return the squae root, cube root, fourth root and so on . Invoke the function to see if it works as expected with one parameter and two parameters."
   ]
  },
  {
   "cell_type": "code",
   "execution_count": null,
   "metadata": {},
   "outputs": [],
   "source": []
  },
  {
   "cell_type": "markdown",
   "metadata": {},
   "source": [
    "Double-click __here__ for the solution.\n",
    "\n",
    "<!-- Solution:\n",
    "\n",
    "def myRoot(num1,root_num=2):\n",
    "    return num1 ** (1/root_num)\n",
    "\n",
    "print(myRoot(6,10))\n",
    "\n",
    "-->"
   ]
  },
  {
   "cell_type": "markdown",
   "metadata": {},
   "source": [
    "#### 4. Write a function `wordCount` which takes one sentence as a string input and prints the sentence and returns the number of words in the sentence. Invoke the function to see if it works as expected.\n",
    "\n",
    "*If the input is \"The quick brown fox jumped over the lazy dog\" the out put should be the sentence and 9 words.*\n"
   ]
  },
  {
   "cell_type": "code",
   "execution_count": null,
   "metadata": {},
   "outputs": [],
   "source": []
  },
  {
   "cell_type": "markdown",
   "metadata": {},
   "source": [
    "Double-click __here__ for the solution.\n",
    "\n",
    "<!-- Solution:\n",
    "\n",
    "def wordCount(sentence):\n",
    "    print(sentence)\n",
    "    return len(sentence.split(\" \"))\n",
    "\n",
    "print(wordCount(input(\"Enter a sentence \")),\" words\")-->"
   ]
  },
  {
   "cell_type": "markdown",
   "metadata": {},
   "source": [
    "#### 5. Write a function `myStringAsArray` which will take a string return the character array of the string that is passed as a parameter. Invoke the function to see if it works as expected. If the parameter passed is `Thanks` the output should be ['T','h','a','n','k','s']"
   ]
  },
  {
   "cell_type": "code",
   "execution_count": null,
   "metadata": {},
   "outputs": [],
   "source": []
  },
  {
   "cell_type": "markdown",
   "metadata": {},
   "source": [
    "Double-click __here__ for the solution.\n",
    "\n",
    "<!-- Solution:\n",
    "\n",
    "def myStringAsArray(string):\n",
    "    return [char for char in string]\n",
    "\n",
    "print(myStringAsArray(input(\"Enter a string \")))\n",
    "\n",
    "-->"
   ]
  },
  {
   "cell_type": "markdown",
   "metadata": {},
   "source": [
    "#### 6. Write a function `checkPalindrome` which will take a word as parameter and return a boolean depending on whether the work is palindrome. Check if a word is a palindrome with this function to see if it works as expected and print out appropriate message. \n",
    "\n",
    "*Hint - Use the myStringAsArray created in the previous exercise, for or while loop, if conditions"
   ]
  },
  {
   "cell_type": "code",
   "execution_count": null,
   "metadata": {},
   "outputs": [],
   "source": []
  },
  {
   "cell_type": "markdown",
   "metadata": {},
   "source": [
    "Double-click __here__ for the solution.\n",
    "\n",
    "<!-- Solution:\n",
    "\n",
    "def checkPalindrome(word):\n",
    "    lower_word = word.lower()\n",
    "    wordarr = myStringAsArray(lower_word)\n",
    "    i=0\n",
    "    j=len(word)-1\n",
    "    while(i<=j/2):\n",
    "        if wordarr[i] == wordarr[j]:\n",
    "            i += 1\n",
    "            j -= 1\n",
    "            continue\n",
    "        else:\n",
    "            return False\n",
    "    return True\n",
    "\n",
    "if (checkPalindrome(input(\"Enter a word \"))):\n",
    "    print(\"It is a palindrome\")\n",
    "else:\n",
    "    print(\"It is not a palindrome\")\n",
    "    \n",
    "-->"
   ]
  },
  {
   "cell_type": "markdown",
   "metadata": {},
   "source": [
    "#### 7. Write a function `appendArrayStrings` which will take two string arrays and return a single array with words in the respective positions in each array combined. If the input is ['Hello','Beach'] and ['World','Holiday'], the function should return the string ['Hello World','Beach Holiday]. If the array lengths are not equal it should return an empty array."
   ]
  },
  {
   "cell_type": "code",
   "execution_count": null,
   "metadata": {},
   "outputs": [],
   "source": []
  },
  {
   "cell_type": "markdown",
   "metadata": {},
   "source": [
    "Double-click __here__ for the solution.\n",
    "\n",
    "<!-- Solution:\n",
    "\n",
    "def appendArrayStrings(arr1,arr2):\n",
    "    arr1_len = len(arr1)\n",
    "    arr2_len = len(arr2)\n",
    "    ret_arr = []\n",
    "    if  arr1_len == arr2_len:\n",
    "        for i in range(0,arr1_len):\n",
    "            ret_arr.append(arr1[i]+\" \"+arr2[i])\n",
    "            \n",
    "    return ret_arr\n",
    "\n",
    "print(appendArrayStrings(['Hello','Beach'],['World','Holiday']))\n",
    "\n",
    "-->"
   ]
  },
  {
   "cell_type": "markdown",
   "metadata": {},
   "source": [
    "#### 8. Write a function sentStats which will take a sentence as a string parameter and return char count and word count. Ignore the spaces in char count.\n",
    "\n",
    "For example if the input sentence is `I love you`\n",
    "The output will be \n",
    "\n",
    "```\n",
    "The word count is 3\n",
    "The char count is 8\n",
    "```\n",
    "\n",
    "*Hint- You can use the methods created in previous exercises.\n",
    "\n"
   ]
  },
  {
   "cell_type": "code",
   "execution_count": null,
   "metadata": {},
   "outputs": [],
   "source": []
  },
  {
   "cell_type": "markdown",
   "metadata": {},
   "source": [
    "Double-click __here__ for the solution.\n",
    "\n",
    "<!-- Solution:\n",
    "\n",
    "def sentStats(sentence):\n",
    "    wordArr = sentence.split()\n",
    "    wordCount = len(wordArr)\n",
    "    \n",
    "    charCount = 0\n",
    "    for word in wordArr:\n",
    "        charCount += len(myStringAsArray(word))\n",
    "    return wordCount,charCount\n",
    "    \n",
    "sentence = input(\"Enter a sentence \")\n",
    "\n",
    "wordCount,charCount = sentStats(sentence)\n",
    "\n",
    "print(\"The word count is %d\"%wordCount)\n",
    "print(\"The char count is %d\"%charCount)\n",
    "\n",
    "-->"
   ]
  },
  {
   "cell_type": "markdown",
   "metadata": {},
   "source": [
    "#### 9. Write a function `getColumnsOfType` which will take two parameter - data frame,type and return  the names of the columns which of the specified type. The default column type should be int.\n"
   ]
  },
  {
   "cell_type": "code",
   "execution_count": null,
   "metadata": {},
   "outputs": [],
   "source": []
  },
  {
   "cell_type": "markdown",
   "metadata": {},
   "source": [
    "Double-click __here__ for the solution.\n",
    "\n",
    "<!-- Solution:\n",
    "\n",
    "\n",
    "def getColumnsOfType(df,colType=\"int64\"):\n",
    "    arrCols = []\n",
    "    for col in df.columns:\n",
    "        if df[col].dtype == colType:\n",
    "            arrCols.append(col)\n",
    "            \n",
    "    return arrCols\n",
    "\n",
    "df = pd.read_csv(\"games.csv\")\n",
    "print(getColumnsOfType(df,\"float64\"))\n",
    "\n",
    "-->"
   ]
  },
  {
   "cell_type": "markdown",
   "metadata": {},
   "source": [
    "#### 10. Write a function which will take a dictionary and a word as parameter and check if the dictionary contains that key."
   ]
  },
  {
   "cell_type": "code",
   "execution_count": 55,
   "metadata": {},
   "outputs": [
    {
     "name": "stdout",
     "output_type": "stream",
     "text": [
      "False\n",
      "True\n"
     ]
    }
   ],
   "source": []
  },
  {
   "cell_type": "markdown",
   "metadata": {},
   "source": [
    "Double-click __here__ for the solution.\n",
    "\n",
    "<!-- Solution:\n",
    "\n",
    "def dictContains(dict,word):\n",
    "    if word in dict.keys():\n",
    "        return True\n",
    "    \n",
    "    return False\n",
    "\n",
    "print(dictContains({\"a\":1,\"b\":2,\"c\":3},\"f\"))\n",
    "print(dictContains({\"a\":1,\"b\":2,\"c\":3},\"c\"))\n",
    "\n",
    "-->"
   ]
  }
 ],
 "metadata": {
  "kernelspec": {
   "display_name": "Python 3",
   "language": "python",
   "name": "python3"
  },
  "language_info": {
   "codemirror_mode": {
    "name": "ipython",
    "version": 3
   },
   "file_extension": ".py",
   "mimetype": "text/x-python",
   "name": "python",
   "nbconvert_exporter": "python",
   "pygments_lexer": "ipython3",
   "version": "3.7.3"
  }
 },
 "nbformat": 4,
 "nbformat_minor": 2
}
